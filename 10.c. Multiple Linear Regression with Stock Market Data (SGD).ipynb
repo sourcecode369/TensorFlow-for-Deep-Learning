{
 "cells": [
  {
   "cell_type": "markdown",
   "metadata": {},
   "source": [
    "## Importing Dependencies"
   ]
  },
  {
   "cell_type": "code",
   "execution_count": 3,
   "metadata": {},
   "outputs": [],
   "source": [
    "import numpy as np"
   ]
  },
  {
   "cell_type": "code",
   "execution_count": 2,
   "metadata": {},
   "outputs": [],
   "source": [
    "import pandas as pd"
   ]
  },
  {
   "cell_type": "code",
   "execution_count": 1,
   "metadata": {},
   "outputs": [],
   "source": [
    "import tensorflow as tf\n",
    "import matplotlib.pyplot as plt\n",
    "%matplotlib inline"
   ]
  },
  {
   "cell_type": "markdown",
   "metadata": {},
   "source": [
    "## Data Preparation"
   ]
  },
  {
   "cell_type": "code",
   "execution_count": 7,
   "metadata": {},
   "outputs": [],
   "source": [
    "def read_xom_oil_nasdaq_data():\n",
    "    def readFile(filename):\n",
    "        data = pd.read_csv(filename,sep=',',usecols=[0,5],names=['Date','Price'],header=0)\n",
    "        data['Date'] = pd.to_datetime(data['Date'],format='%Y-%m-%d')\n",
    "        data = data.sort_values(['Date'],ascending=True)\n",
    "        returns = data[[key for key in dict(data.dtypes) if dict(data.dtypes)[key] in ['float64','int64']]].pct_change()\n",
    "        return np.array(returns['Price'])[1:]\n",
    "    nasdaqData = readFile('./data/NASDAQ.csv')\n",
    "    oilData = readFile('./data/USO.csv')\n",
    "    xomData = readFile('./data/XOM.csv')\n",
    "    return (nasdaqData,oilData,xomData)"
   ]
  },
  {
   "cell_type": "code",
   "execution_count": 8,
   "metadata": {},
   "outputs": [],
   "source": [
    "nasdaqData, oilData, xomData = read_xom_oil_nasdaq_data()"
   ]
  },
  {
   "cell_type": "code",
   "execution_count": 13,
   "metadata": {},
   "outputs": [
    {
     "data": {
      "text/plain": [
       "126"
      ]
     },
     "execution_count": 13,
     "metadata": {},
     "output_type": "execute_result"
    }
   ],
   "source": [
    "len(nasdaqData)\n",
    "len(oilData)\n",
    "len(xomData)"
   ]
  },
  {
   "cell_type": "markdown",
   "metadata": {},
   "source": [
    "## Scikit Learn Baseline "
   ]
  },
  {
   "cell_type": "code",
   "execution_count": 14,
   "metadata": {},
   "outputs": [],
   "source": [
    "from sklearn import datasets, linear_model"
   ]
  },
  {
   "cell_type": "code",
   "execution_count": 16,
   "metadata": {},
   "outputs": [],
   "source": [
    "regressor = linear_model.LinearRegression()"
   ]
  },
  {
   "cell_type": "code",
   "execution_count": 17,
   "metadata": {},
   "outputs": [],
   "source": [
    "combined = np.vstack((nasdaqData, oilData)).T"
   ]
  },
  {
   "cell_type": "code",
   "execution_count": 19,
   "metadata": {},
   "outputs": [
    {
     "data": {
      "text/plain": [
       "LinearRegression(copy_X=True, fit_intercept=True, n_jobs=1, normalize=False)"
      ]
     },
     "execution_count": 19,
     "metadata": {},
     "output_type": "execute_result"
    }
   ],
   "source": [
    "regressor.fit(combined,xomData)"
   ]
  },
  {
   "cell_type": "code",
   "execution_count": 21,
   "metadata": {},
   "outputs": [
    {
     "data": {
      "text/plain": [
       "array([0.25118806, 0.14642728])"
      ]
     },
     "execution_count": 21,
     "metadata": {},
     "output_type": "execute_result"
    }
   ],
   "source": [
    "regressor.coef_"
   ]
  },
  {
   "cell_type": "code",
   "execution_count": 22,
   "metadata": {},
   "outputs": [
    {
     "data": {
      "text/plain": [
       "0.0032059862138337147"
      ]
     },
     "execution_count": 22,
     "metadata": {},
     "output_type": "execute_result"
    }
   ],
   "source": [
    "regressor.intercept_"
   ]
  },
  {
   "cell_type": "code",
   "execution_count": 60,
   "metadata": {},
   "outputs": [],
   "source": [
    "predicted = regressor.predict(combined)"
   ]
  },
  {
   "cell_type": "code",
   "execution_count": 61,
   "metadata": {},
   "outputs": [],
   "source": [
    "true = xomData"
   ]
  },
  {
   "cell_type": "code",
   "execution_count": 63,
   "metadata": {},
   "outputs": [],
   "source": [
    "sum_of_square_residuals = np.sum(np.square(true - predicted))"
   ]
  },
  {
   "cell_type": "code",
   "execution_count": 65,
   "metadata": {},
   "outputs": [],
   "source": [
    "sum_of_square_total = np.sum(np.square(true - np.average(predicted)))"
   ]
  },
  {
   "cell_type": "code",
   "execution_count": 66,
   "metadata": {},
   "outputs": [],
   "source": [
    "r_squarred = 1 - np.divide(sum_of_square_residuals,sum_of_square_total)"
   ]
  },
  {
   "cell_type": "code",
   "execution_count": 44,
   "metadata": {},
   "outputs": [],
   "source": [
    "# R-Squared = 1 - (Explained Variation / Total Variation)"
   ]
  },
  {
   "cell_type": "code",
   "execution_count": 67,
   "metadata": {},
   "outputs": [
    {
     "name": "stdout",
     "output_type": "stream",
     "text": [
      "The R-Squarred Error is: 0.22776256213951973\n"
     ]
    }
   ],
   "source": [
    "print(\"The R-Squarred Error is: {}\".format(r_squarred))"
   ]
  },
  {
   "cell_type": "markdown",
   "metadata": {},
   "source": [
    "## Tensorflow Implementation"
   ]
  },
  {
   "cell_type": "code",
   "execution_count": 69,
   "metadata": {},
   "outputs": [],
   "source": [
    "import tensorflow as tf"
   ]
  },
  {
   "cell_type": "code",
   "execution_count": 70,
   "metadata": {},
   "outputs": [],
   "source": [
    "nasdaq_w = tf.Variable(tf.zeros([1,1]),name='nasdaq_w',dtype=tf.float32)\n",
    "oil_w = tf.Variable(tf.zeros([1,1]),name='oil_w',dtype=tf.float32)\n",
    "b = tf.Variable(tf.zeros([1]),name='b',dtype=tf.float32)"
   ]
  },
  {
   "cell_type": "code",
   "execution_count": 71,
   "metadata": {},
   "outputs": [],
   "source": [
    "nasdaq_x = tf.placeholder(dtype=tf.float32,shape=[None,1],name='nasdaq_x')\n",
    "oil_x = tf.placeholder(dtype=tf.float32,shape=[None,1],name='oil_x')"
   ]
  },
  {
   "cell_type": "code",
   "execution_count": 73,
   "metadata": {},
   "outputs": [],
   "source": [
    "y_ = tf.placeholder(dtype=tf.float32,shape=[None,1],name='y_')"
   ]
  },
  {
   "cell_type": "code",
   "execution_count": 74,
   "metadata": {},
   "outputs": [],
   "source": [
    "nasdaq_wx = tf.matmul(nasdaq_x,nasdaq_w)\n",
    "oil_wx = tf.matmul(oil_x,oil_w)\n",
    "y = nasdaq_wx + oil_wx + b"
   ]
  },
  {
   "cell_type": "code",
   "execution_count": 75,
   "metadata": {},
   "outputs": [],
   "source": [
    "loss = tf.reduce_sum(tf.square(y_ - y))"
   ]
  },
  {
   "cell_type": "code",
   "execution_count": 76,
   "metadata": {},
   "outputs": [],
   "source": [
    "optimizer = tf.train.FtrlOptimizer(0.1)"
   ]
  },
  {
   "cell_type": "code",
   "execution_count": 77,
   "metadata": {},
   "outputs": [],
   "source": [
    "train = optimizer.minimize(loss)"
   ]
  },
  {
   "cell_type": "code",
   "execution_count": 80,
   "metadata": {},
   "outputs": [],
   "source": [
    "all_x_nasdaq = nasdaqData.reshape(-1,1)\n",
    "all_x_oil = oilData.reshape(-1,1)\n",
    "all_ys = xomData.reshape(-1,1)"
   ]
  },
  {
   "cell_type": "code",
   "execution_count": 81,
   "metadata": {},
   "outputs": [],
   "source": [
    "dataset_size = len(oilData)"
   ]
  },
  {
   "cell_type": "code",
   "execution_count": 84,
   "metadata": {},
   "outputs": [],
   "source": [
    "def trainWithMultiplePointsPerEpoch(steps, train_step, batch_size):\n",
    "    init = tf.global_variables_initializer()\n",
    "    with tf.Session() as sess:\n",
    "        sess.run(init)\n",
    "        for i in range(steps):\n",
    "            if dataset_size==batch_size:\n",
    "                batch_start_idx = 0\n",
    "            elif dataset_size<batch_size:\n",
    "                raise ValueError(\"Dataset size %d must be greater than Batch size %d\"%(dataset_size,batch_size))\n",
    "            else:\n",
    "                batch_start_idx = (i * batch_size) % (dataset_size)\n",
    "            batch_end_idx = batch_start_idx + batch_size\n",
    "            \n",
    "            #Acess the x and y values in batches\n",
    "            batch_x_nasdaq = all_x_nasdaq[batch_start_idx:batch_end_idx]\n",
    "            batch_x_oil = all_x_oil[batch_start_idx:batch_end_idx]\n",
    "            batch_ys = all_ys[batch_start_idx:batch_end_idx]\n",
    "            feed_dict = {nasdaq_x:batch_x_nasdaq,oil_x:batch_x_oil,y_:batch_ys}\n",
    "            sess.run(train_step,feed_dict=feed_dict)\n",
    "            if (i)%100==0:\n",
    "                print(\"After {} iteration.\".format(i))\n",
    "                print(\"nasdaq_w: {}\".format(sess.run(nasdaq_w)))\n",
    "                print(\"oil_w: {}\".format(sess.run(oil_w)))\n",
    "                print(\"b: {}\".format(sess.run(b)))\n",
    "        trained_nasdaq_w = sess.run(nasdaq_w)\n",
    "        trained_oil_w = sess.run(oil_w)\n",
    "        trained_b = sess.run(b)\n",
    "    return trained_nasdaq_w, trained_oil_w, trained_b"
   ]
  },
  {
   "cell_type": "code",
   "execution_count": 86,
   "metadata": {},
   "outputs": [
    {
     "name": "stdout",
     "output_type": "stream",
     "text": [
      "After 0 iteration.\n",
      "nasdaq_w: [[0.05722181]]\n",
      "oil_w: [[0.07481174]]\n",
      "b: [0.09434591]\n",
      "After 100 iteration.\n",
      "nasdaq_w: [[0.27722105]]\n",
      "oil_w: [[0.17994392]]\n",
      "b: [0.00706963]\n",
      "After 200 iteration.\n",
      "nasdaq_w: [[0.26882294]]\n",
      "oil_w: [[0.16737598]]\n",
      "b: [0.00158484]\n",
      "After 300 iteration.\n",
      "nasdaq_w: [[0.27000704]]\n",
      "oil_w: [[0.161919]]\n",
      "b: [0.00163913]\n",
      "After 400 iteration.\n",
      "nasdaq_w: [[0.2703731]]\n",
      "oil_w: [[0.16633706]]\n",
      "b: [0.00345861]\n",
      "After 500 iteration.\n",
      "nasdaq_w: [[0.2692369]]\n",
      "oil_w: [[0.16622676]]\n",
      "b: [0.00308334]\n",
      "After 600 iteration.\n",
      "nasdaq_w: [[0.27609074]]\n",
      "oil_w: [[0.17504224]]\n",
      "b: [-0.00084845]\n",
      "After 700 iteration.\n",
      "nasdaq_w: [[0.27482283]]\n",
      "oil_w: [[0.17388757]]\n",
      "b: [0.00181568]\n",
      "After 800 iteration.\n",
      "nasdaq_w: [[0.26890606]]\n",
      "oil_w: [[0.16681224]]\n",
      "b: [0.00010719]\n",
      "After 900 iteration.\n",
      "nasdaq_w: [[0.27600935]]\n",
      "oil_w: [[0.169997]]\n",
      "b: [0.00553047]\n",
      "After 1000 iteration.\n",
      "nasdaq_w: [[0.2691207]]\n",
      "oil_w: [[0.16634713]]\n",
      "b: [0.00195293]\n",
      "After 1100 iteration.\n",
      "nasdaq_w: [[0.27209505]]\n",
      "oil_w: [[0.16701373]]\n",
      "b: [0.00195156]\n",
      "After 1200 iteration.\n",
      "nasdaq_w: [[0.2724941]]\n",
      "oil_w: [[0.16919921]]\n",
      "b: [0.00315097]\n",
      "After 1300 iteration.\n",
      "nasdaq_w: [[0.27216268]]\n",
      "oil_w: [[0.169318]]\n",
      "b: [0.00286093]\n",
      "After 1400 iteration.\n",
      "nasdaq_w: [[0.27029854]]\n",
      "oil_w: [[0.16655892]]\n",
      "b: [0.00268634]\n",
      "After 1500 iteration.\n",
      "nasdaq_w: [[0.2702346]]\n",
      "oil_w: [[0.16698329]]\n",
      "b: [0.00266806]\n",
      "After 1600 iteration.\n",
      "nasdaq_w: [[0.27092624]]\n",
      "oil_w: [[0.16752668]]\n",
      "b: [0.00205878]\n",
      "After 1700 iteration.\n",
      "nasdaq_w: [[0.27319372]]\n",
      "oil_w: [[0.17145282]]\n",
      "b: [0.0023489]\n",
      "After 1800 iteration.\n",
      "nasdaq_w: [[0.27487198]]\n",
      "oil_w: [[0.17353001]]\n",
      "b: [0.00180093]\n",
      "After 1900 iteration.\n",
      "nasdaq_w: [[0.2722719]]\n",
      "oil_w: [[0.1690641]]\n",
      "b: [0.00285836]\n",
      "After 2000 iteration.\n",
      "nasdaq_w: [[0.27470067]]\n",
      "oil_w: [[0.17021438]]\n",
      "b: [0.0051168]\n",
      "After 2100 iteration.\n",
      "nasdaq_w: [[0.27064207]]\n",
      "oil_w: [[0.16786468]]\n",
      "b: [0.00214657]\n",
      "After 2200 iteration.\n",
      "nasdaq_w: [[0.2709409]]\n",
      "oil_w: [[0.16704461]]\n",
      "b: [0.00070335]\n",
      "After 2300 iteration.\n",
      "nasdaq_w: [[0.2734017]]\n",
      "oil_w: [[0.16996843]]\n",
      "b: [0.00275916]\n",
      "After 2400 iteration.\n",
      "nasdaq_w: [[0.27366006]]\n",
      "oil_w: [[0.17203523]]\n",
      "b: [0.00145038]\n",
      "After 2500 iteration.\n",
      "nasdaq_w: [[0.2710569]]\n",
      "oil_w: [[0.16779502]]\n",
      "b: [0.00313671]\n",
      "After 2600 iteration.\n",
      "nasdaq_w: [[0.2710504]]\n",
      "oil_w: [[0.16790727]]\n",
      "b: [0.0024378]\n",
      "After 2700 iteration.\n",
      "nasdaq_w: [[0.2704367]]\n",
      "oil_w: [[0.16672873]]\n",
      "b: [0.00178815]\n",
      "After 2800 iteration.\n",
      "nasdaq_w: [[0.2745558]]\n",
      "oil_w: [[0.1718033]]\n",
      "b: [0.00324448]\n",
      "After 2900 iteration.\n",
      "nasdaq_w: [[0.27102125]]\n",
      "oil_w: [[0.16833028]]\n",
      "b: [0.00246901]\n",
      "After 3000 iteration.\n",
      "nasdaq_w: [[0.27308407]]\n",
      "oil_w: [[0.16990232]]\n",
      "b: [0.00333802]\n",
      "After 3100 iteration.\n",
      "nasdaq_w: [[0.27448642]]\n",
      "oil_w: [[0.17013423]]\n",
      "b: [0.00562457]\n",
      "After 3200 iteration.\n",
      "nasdaq_w: [[0.2696858]]\n",
      "oil_w: [[0.16783057]]\n",
      "b: [0.00179323]\n",
      "After 3300 iteration.\n",
      "nasdaq_w: [[0.2729827]]\n",
      "oil_w: [[0.16761349]]\n",
      "b: [0.00195013]\n",
      "After 3400 iteration.\n",
      "nasdaq_w: [[0.27189767]]\n",
      "oil_w: [[0.16898467]]\n",
      "b: [0.00280075]\n",
      "After 3500 iteration.\n",
      "nasdaq_w: [[0.27416202]]\n",
      "oil_w: [[0.1725956]]\n",
      "b: [0.00172181]\n",
      "After 3600 iteration.\n",
      "nasdaq_w: [[0.27312168]]\n",
      "oil_w: [[0.16917999]]\n",
      "b: [0.00430257]\n",
      "After 3700 iteration.\n",
      "nasdaq_w: [[0.2710123]]\n",
      "oil_w: [[0.16831355]]\n",
      "b: [0.00305204]\n",
      "After 3800 iteration.\n",
      "nasdaq_w: [[0.27184466]]\n",
      "oil_w: [[0.16808322]]\n",
      "b: [0.0021805]\n",
      "After 3900 iteration.\n",
      "nasdaq_w: [[0.2733897]]\n",
      "oil_w: [[0.17068549]]\n",
      "b: [0.00344842]\n",
      "After 4000 iteration.\n",
      "nasdaq_w: [[0.27220976]]\n",
      "oil_w: [[0.16903117]]\n",
      "b: [0.00260784]\n",
      "After 4100 iteration.\n",
      "nasdaq_w: [[0.27379155]]\n",
      "oil_w: [[0.17097233]]\n",
      "b: [0.00144695]\n",
      "After 4200 iteration.\n",
      "nasdaq_w: [[0.2744667]]\n",
      "oil_w: [[0.17073254]]\n",
      "b: [0.00548241]\n",
      "After 4300 iteration.\n",
      "nasdaq_w: [[0.27035806]]\n",
      "oil_w: [[0.1682676]]\n",
      "b: [0.00186386]\n",
      "After 4400 iteration.\n",
      "nasdaq_w: [[0.27186713]]\n",
      "oil_w: [[0.16662832]]\n",
      "b: [0.00187924]\n",
      "After 4500 iteration.\n",
      "nasdaq_w: [[0.27226856]]\n",
      "oil_w: [[0.16933312]]\n",
      "b: [0.00321455]\n",
      "After 4600 iteration.\n",
      "nasdaq_w: [[0.27121547]]\n",
      "oil_w: [[0.168204]]\n",
      "b: [0.00333847]\n",
      "After 4700 iteration.\n",
      "nasdaq_w: [[0.27337888]]\n",
      "oil_w: [[0.17025693]]\n",
      "b: [0.00362207]\n",
      "After 4800 iteration.\n",
      "nasdaq_w: [[0.27182284]]\n",
      "oil_w: [[0.16932702]]\n",
      "b: [0.0024307]\n",
      "After 4900 iteration.\n",
      "nasdaq_w: [[0.27095395]]\n",
      "oil_w: [[0.16808493]]\n",
      "b: [0.00245712]\n",
      "After 5000 iteration.\n",
      "nasdaq_w: [[0.27384862]]\n",
      "oil_w: [[0.17057528]]\n",
      "b: [0.00384554]\n",
      "After 5100 iteration.\n",
      "nasdaq_w: [[0.2711726]]\n",
      "oil_w: [[0.16869412]]\n",
      "b: [0.00232937]\n",
      "After 5200 iteration.\n",
      "nasdaq_w: [[0.27418247]]\n",
      "oil_w: [[0.17177214]]\n",
      "b: [0.00132087]\n",
      "After 5300 iteration.\n",
      "nasdaq_w: [[0.2754455]]\n",
      "oil_w: [[0.172159]]\n",
      "b: [0.00494084]\n",
      "After 5400 iteration.\n",
      "nasdaq_w: [[0.2708505]]\n",
      "oil_w: [[0.16910554]]\n",
      "b: [0.00237445]\n",
      "After 5500 iteration.\n",
      "nasdaq_w: [[0.27304342]]\n",
      "oil_w: [[0.16756448]]\n",
      "b: [0.00315993]\n",
      "After 5600 iteration.\n",
      "nasdaq_w: [[0.27133295]]\n",
      "oil_w: [[0.168668]]\n",
      "b: [0.00311562]\n",
      "After 5700 iteration.\n",
      "nasdaq_w: [[0.27220854]]\n",
      "oil_w: [[0.16886853]]\n",
      "b: [0.00333717]\n",
      "After 5800 iteration.\n",
      "nasdaq_w: [[0.27368003]]\n",
      "oil_w: [[0.17089035]]\n",
      "b: [0.00140725]\n",
      "After 5900 iteration.\n",
      "nasdaq_w: [[0.27251595]]\n",
      "oil_w: [[0.17005706]]\n",
      "b: [0.00224655]\n",
      "After 6000 iteration.\n",
      "nasdaq_w: [[0.27111936]]\n",
      "oil_w: [[0.16819657]]\n",
      "b: [0.00278007]\n",
      "After 6100 iteration.\n",
      "nasdaq_w: [[0.27330083]]\n",
      "oil_w: [[0.17010945]]\n",
      "b: [0.00308513]\n",
      "After 6200 iteration.\n",
      "nasdaq_w: [[0.27167583]]\n",
      "oil_w: [[0.16895533]]\n",
      "b: [0.00313991]\n",
      "After 6300 iteration.\n",
      "nasdaq_w: [[0.271545]]\n",
      "oil_w: [[0.16778511]]\n",
      "b: [0.00278903]\n",
      "After 6400 iteration.\n",
      "nasdaq_w: [[0.27526465]]\n",
      "oil_w: [[0.17255129]]\n",
      "b: [0.00385971]\n",
      "After 6500 iteration.\n",
      "nasdaq_w: [[0.27203456]]\n",
      "oil_w: [[0.16965489]]\n",
      "b: [0.00336222]\n",
      "After 6600 iteration.\n",
      "nasdaq_w: [[0.27205804]]\n",
      "oil_w: [[0.16793247]]\n",
      "b: [0.00354414]\n",
      "After 6700 iteration.\n",
      "nasdaq_w: [[0.27170548]]\n",
      "oil_w: [[0.16879183]]\n",
      "b: [0.00290272]\n",
      "After 6800 iteration.\n",
      "nasdaq_w: [[0.2712405]]\n",
      "oil_w: [[0.16862197]]\n",
      "b: [0.00272151]\n",
      "After 6900 iteration.\n",
      "nasdaq_w: [[0.2739956]]\n",
      "oil_w: [[0.17168313]]\n",
      "b: [0.00104799]\n",
      "After 7000 iteration.\n",
      "nasdaq_w: [[0.27334502]]\n",
      "oil_w: [[0.17127031]]\n",
      "b: [0.00176067]\n",
      "After 7100 iteration.\n",
      "nasdaq_w: [[0.27147308]]\n",
      "oil_w: [[0.16894116]]\n",
      "b: [0.00314288]\n",
      "After 7200 iteration.\n",
      "nasdaq_w: [[0.27398038]]\n",
      "oil_w: [[0.16999163]]\n",
      "b: [0.00424455]\n",
      "After 7300 iteration.\n",
      "nasdaq_w: [[0.27092856]]\n",
      "oil_w: [[0.16851865]]\n",
      "b: [0.00214279]\n",
      "After 7400 iteration.\n",
      "nasdaq_w: [[0.27235267]]\n",
      "oil_w: [[0.16873208]]\n",
      "b: [0.00250948]\n",
      "After 7500 iteration.\n",
      "nasdaq_w: [[0.2723968]]\n",
      "oil_w: [[0.1694369]]\n",
      "b: [0.00288422]\n",
      "After 7600 iteration.\n",
      "nasdaq_w: [[0.2726202]]\n",
      "oil_w: [[0.16996136]]\n",
      "b: [0.00336712]\n",
      "After 7700 iteration.\n",
      "nasdaq_w: [[0.2716267]]\n",
      "oil_w: [[0.16834396]]\n",
      "b: [0.00404164]\n",
      "After 7800 iteration.\n",
      "nasdaq_w: [[0.27135074]]\n",
      "oil_w: [[0.16875327]]\n",
      "b: [0.00253785]\n",
      "After 7900 iteration.\n",
      "nasdaq_w: [[0.27167514]]\n",
      "oil_w: [[0.16874991]]\n",
      "b: [0.00263928]\n",
      "After 8000 iteration.\n",
      "nasdaq_w: [[0.2727659]]\n",
      "oil_w: [[0.17060006]]\n",
      "b: [0.00253915]\n",
      "After 8100 iteration.\n",
      "nasdaq_w: [[0.27371055]]\n",
      "oil_w: [[0.17182706]]\n",
      "b: [0.00185282]\n",
      "After 8200 iteration.\n",
      "nasdaq_w: [[0.2725349]]\n",
      "oil_w: [[0.16947721]]\n",
      "b: [0.00376944]\n",
      "After 8300 iteration.\n",
      "nasdaq_w: [[0.27374813]]\n",
      "oil_w: [[0.1702456]]\n",
      "b: [0.0044038]\n",
      "After 8400 iteration.\n",
      "nasdaq_w: [[0.27144632]]\n",
      "oil_w: [[0.16884373]]\n",
      "b: [0.00260166]\n",
      "After 8500 iteration.\n",
      "nasdaq_w: [[0.27160427]]\n",
      "oil_w: [[0.16839768]]\n",
      "b: [0.00163093]\n",
      "After 8600 iteration.\n",
      "nasdaq_w: [[0.27297086]]\n",
      "oil_w: [[0.16994499]]\n",
      "b: [0.00276118]\n",
      "After 8700 iteration.\n",
      "nasdaq_w: [[0.27307597]]\n",
      "oil_w: [[0.17101645]]\n",
      "b: [0.0017817]\n",
      "After 8800 iteration.\n",
      "nasdaq_w: [[0.27186248]]\n",
      "oil_w: [[0.16885102]]\n",
      "b: [0.00390591]\n",
      "After 8900 iteration.\n",
      "nasdaq_w: [[0.27161407]]\n",
      "oil_w: [[0.16885085]]\n",
      "b: [0.00252894]\n",
      "After 9000 iteration.\n",
      "nasdaq_w: [[0.27125284]]\n",
      "oil_w: [[0.1681859]]\n",
      "b: [0.00214452]\n",
      "After 9100 iteration.\n",
      "nasdaq_w: [[0.2736694]]\n",
      "oil_w: [[0.17096195]]\n",
      "b: [0.00323544]\n",
      "After 9200 iteration.\n",
      "nasdaq_w: [[0.27155226]]\n",
      "oil_w: [[0.16895041]]\n",
      "b: [0.00262834]\n",
      "After 9300 iteration.\n",
      "nasdaq_w: [[0.272973]]\n",
      "oil_w: [[0.17005306]]\n",
      "b: [0.00351874]\n",
      "After 9400 iteration.\n",
      "nasdaq_w: [[0.27369434]]\n",
      "oil_w: [[0.17009936]]\n",
      "b: [0.00474363]\n",
      "After 9500 iteration.\n",
      "nasdaq_w: [[0.27080286]]\n",
      "oil_w: [[0.16878524]]\n",
      "b: [0.00235469]\n",
      "After 9600 iteration.\n",
      "nasdaq_w: [[0.2727825]]\n",
      "oil_w: [[0.16851586]]\n",
      "b: [0.00248432]\n",
      "After 9700 iteration.\n"
     ]
    },
    {
     "name": "stdout",
     "output_type": "stream",
     "text": [
      "nasdaq_w: [[0.27204183]]\n",
      "oil_w: [[0.16935536]]\n",
      "b: [0.00271682]\n",
      "After 9800 iteration.\n",
      "nasdaq_w: [[0.27351198]]\n",
      "oil_w: [[0.17158836]]\n",
      "b: [0.00190542]\n",
      "After 9900 iteration.\n",
      "nasdaq_w: [[0.27296284]]\n",
      "oil_w: [[0.16946381]]\n",
      "b: [0.00440451]\n",
      "After 10000 iteration.\n",
      "nasdaq_w: [[0.27158162]]\n",
      "oil_w: [[0.1690469]]\n",
      "b: [0.00308944]\n",
      "After 10100 iteration.\n",
      "nasdaq_w: [[0.27207404]]\n",
      "oil_w: [[0.16874537]]\n",
      "b: [0.00270091]\n",
      "After 10200 iteration.\n",
      "nasdaq_w: [[0.27303538]]\n",
      "oil_w: [[0.17040631]]\n",
      "b: [0.00333009]\n",
      "After 10300 iteration.\n",
      "nasdaq_w: [[0.27228916]]\n",
      "oil_w: [[0.16935144]]\n",
      "b: [0.00276766]\n",
      "After 10400 iteration.\n",
      "nasdaq_w: [[0.2732947]]\n",
      "oil_w: [[0.17055264]]\n",
      "b: [0.00181308]\n",
      "After 10500 iteration.\n",
      "nasdaq_w: [[0.27383277]]\n",
      "oil_w: [[0.1705676]]\n",
      "b: [0.00472015]\n",
      "After 10600 iteration.\n",
      "nasdaq_w: [[0.2710885]]\n",
      "oil_w: [[0.1688562]]\n",
      "b: [0.00243338]\n",
      "After 10700 iteration.\n",
      "nasdaq_w: [[0.27206102]]\n",
      "oil_w: [[0.16783103]]\n",
      "b: [0.00217398]\n",
      "After 10800 iteration.\n",
      "nasdaq_w: [[0.2722972]]\n",
      "oil_w: [[0.16951665]]\n",
      "b: [0.00319415]\n",
      "After 10900 iteration.\n",
      "nasdaq_w: [[0.27157316]]\n",
      "oil_w: [[0.16878767]]\n",
      "b: [0.00315916]\n",
      "After 11000 iteration.\n",
      "nasdaq_w: [[0.27315927]]\n",
      "oil_w: [[0.17023483]]\n",
      "b: [0.00361427]\n",
      "After 11100 iteration.\n",
      "nasdaq_w: [[0.2720497]]\n",
      "oil_w: [[0.16954333]]\n",
      "b: [0.00274798]\n",
      "After 11200 iteration.\n",
      "nasdaq_w: [[0.27148336]]\n",
      "oil_w: [[0.16874327]]\n",
      "b: [0.00288452]\n",
      "After 11300 iteration.\n",
      "nasdaq_w: [[0.27338165]]\n",
      "oil_w: [[0.17034724]]\n",
      "b: [0.00362392]\n",
      "After 11400 iteration.\n",
      "nasdaq_w: [[0.27153444]]\n",
      "oil_w: [[0.16910174]]\n",
      "b: [0.00246136]\n",
      "After 11500 iteration.\n",
      "nasdaq_w: [[0.2736464]]\n",
      "oil_w: [[0.1711867]]\n",
      "b: [0.00165773]\n",
      "After 11600 iteration.\n",
      "nasdaq_w: [[0.27450222]]\n",
      "oil_w: [[0.17148001]]\n",
      "b: [0.00423135]\n",
      "After 11700 iteration.\n",
      "nasdaq_w: [[0.271396]]\n",
      "oil_w: [[0.16942427]]\n",
      "b: [0.00278031]\n",
      "After 11800 iteration.\n",
      "nasdaq_w: [[0.27288416]]\n",
      "oil_w: [[0.1682779]]\n",
      "b: [0.00334975]\n",
      "After 11900 iteration.\n",
      "nasdaq_w: [[0.2716225]]\n",
      "oil_w: [[0.16908163]]\n",
      "b: [0.00293942]\n",
      "After 12000 iteration.\n",
      "nasdaq_w: [[0.27227095]]\n",
      "oil_w: [[0.16919155]]\n",
      "b: [0.0032832]\n",
      "After 12100 iteration.\n",
      "nasdaq_w: [[0.27330232]]\n",
      "oil_w: [[0.1705749]]\n",
      "b: [0.00172893]\n",
      "After 12200 iteration.\n",
      "nasdaq_w: [[0.27254915]]\n",
      "oil_w: [[0.1700852]]\n",
      "b: [0.00250142]\n",
      "After 12300 iteration.\n",
      "nasdaq_w: [[0.27153155]]\n",
      "oil_w: [[0.16869071]]\n",
      "b: [0.00314923]\n",
      "After 12400 iteration.\n",
      "nasdaq_w: [[0.27305698]]\n",
      "oil_w: [[0.17010334]]\n",
      "b: [0.00299071]\n",
      "After 12500 iteration.\n",
      "nasdaq_w: [[0.27186757]]\n",
      "oil_w: [[0.16922724]]\n",
      "b: [0.00313507]\n",
      "After 12600 iteration.\n",
      "nasdaq_w: [[0.27176034]]\n",
      "oil_w: [[0.16840655]]\n",
      "b: [0.00274311]\n",
      "After 12700 iteration.\n",
      "nasdaq_w: [[0.2744898]]\n",
      "oil_w: [[0.17186178]]\n",
      "b: [0.00346505]\n",
      "After 12800 iteration.\n",
      "nasdaq_w: [[0.272176]]\n",
      "oil_w: [[0.16973536]]\n",
      "b: [0.00348551]\n",
      "After 12900 iteration.\n",
      "nasdaq_w: [[0.27221215]]\n",
      "oil_w: [[0.168522]]\n",
      "b: [0.00367139]\n",
      "After 13000 iteration.\n",
      "nasdaq_w: [[0.27187797]]\n",
      "oil_w: [[0.16909958]]\n",
      "b: [0.0029189]\n",
      "After 13100 iteration.\n",
      "nasdaq_w: [[0.27153808]]\n",
      "oil_w: [[0.16899215]]\n",
      "b: [0.00277252]\n",
      "After 13200 iteration.\n",
      "nasdaq_w: [[0.27358782]]\n",
      "oil_w: [[0.17120765]]\n",
      "b: [0.0014018]\n",
      "After 13300 iteration.\n",
      "nasdaq_w: [[0.27307823]]\n",
      "oil_w: [[0.17091508]]\n",
      "b: [0.00185064]\n",
      "After 13400 iteration.\n",
      "nasdaq_w: [[0.27178305]]\n",
      "oil_w: [[0.16923597]]\n",
      "b: [0.00338212]\n",
      "After 13500 iteration.\n",
      "nasdaq_w: [[0.27357996]]\n",
      "oil_w: [[0.16997972]]\n",
      "b: [0.00394631]\n",
      "After 13600 iteration.\n",
      "nasdaq_w: [[0.27129266]]\n",
      "oil_w: [[0.16891584]]\n",
      "b: [0.00223514]\n",
      "After 13700 iteration.\n",
      "nasdaq_w: [[0.2723745]]\n",
      "oil_w: [[0.1690413]]\n",
      "b: [0.00264803]\n",
      "After 13800 iteration.\n",
      "nasdaq_w: [[0.2723837]]\n",
      "oil_w: [[0.16954958]]\n",
      "b: [0.00285363]\n",
      "After 13900 iteration.\n",
      "nasdaq_w: [[0.2726155]]\n",
      "oil_w: [[0.16999999]]\n",
      "b: [0.00336049]\n",
      "After 14000 iteration.\n",
      "nasdaq_w: [[0.27185762]]\n",
      "oil_w: [[0.16873229]]\n",
      "b: [0.00410044]\n",
      "After 14100 iteration.\n",
      "nasdaq_w: [[0.27161932]]\n",
      "oil_w: [[0.16908774]]\n",
      "b: [0.00262602]\n",
      "After 14200 iteration.\n",
      "nasdaq_w: [[0.27185056]]\n",
      "oil_w: [[0.16903266]]\n",
      "b: [0.00277061]\n",
      "After 14300 iteration.\n",
      "nasdaq_w: [[0.27266702]]\n",
      "oil_w: [[0.17043616]]\n",
      "b: [0.00256893]\n",
      "After 14400 iteration.\n",
      "nasdaq_w: [[0.27339882]]\n",
      "oil_w: [[0.17138502]]\n",
      "b: [0.00192955]\n",
      "After 14500 iteration.\n",
      "nasdaq_w: [[0.2725383]]\n",
      "oil_w: [[0.16958985]]\n",
      "b: [0.0037766]\n",
      "After 14600 iteration.\n",
      "nasdaq_w: [[0.27347043]]\n",
      "oil_w: [[0.17020291]]\n",
      "b: [0.00418536]\n",
      "After 14700 iteration.\n",
      "nasdaq_w: [[0.27167162]]\n",
      "oil_w: [[0.16909549]]\n",
      "b: [0.00274463]\n",
      "After 14800 iteration.\n",
      "nasdaq_w: [[0.27179143]]\n",
      "oil_w: [[0.1687699]]\n",
      "b: [0.00190988]\n",
      "After 14900 iteration.\n",
      "nasdaq_w: [[0.27284622]]\n",
      "oil_w: [[0.16993606]]\n",
      "b: [0.00279548]\n",
      "After 15000 iteration.\n",
      "nasdaq_w: [[0.27291358]]\n",
      "oil_w: [[0.17075543]]\n",
      "b: [0.00192193]\n",
      "After 15100 iteration.\n",
      "nasdaq_w: [[0.27204177]]\n",
      "oil_w: [[0.16912362]]\n",
      "b: [0.00396066]\n",
      "After 15200 iteration.\n",
      "nasdaq_w: [[0.27179724]]\n",
      "oil_w: [[0.16910274]]\n",
      "b: [0.00264905]\n",
      "After 15300 iteration.\n",
      "nasdaq_w: [[0.2715094]]\n",
      "oil_w: [[0.16860738]]\n",
      "b: [0.00226358]\n",
      "After 15400 iteration.\n",
      "nasdaq_w: [[0.27339572]]\n",
      "oil_w: [[0.1707133]]\n",
      "b: [0.00322592]\n",
      "After 15500 iteration.\n",
      "nasdaq_w: [[0.27172837]]\n",
      "oil_w: [[0.16916478]]\n",
      "b: [0.00266452]\n",
      "After 15600 iteration.\n",
      "nasdaq_w: [[0.27288717]]\n",
      "oil_w: [[0.17006257]]\n",
      "b: [0.00345792]\n",
      "After 15700 iteration.\n",
      "nasdaq_w: [[0.2734335]]\n",
      "oil_w: [[0.17006734]]\n",
      "b: [0.0044628]\n",
      "After 15800 iteration.\n",
      "nasdaq_w: [[0.27117202]]\n",
      "oil_w: [[0.16906127]]\n",
      "b: [0.00257157]\n",
      "After 15900 iteration.\n",
      "nasdaq_w: [[0.27271226]]\n",
      "oil_w: [[0.16881573]]\n",
      "b: [0.00264283]\n",
      "After 16000 iteration.\n",
      "nasdaq_w: [[0.27210727]]\n",
      "oil_w: [[0.1694862]]\n",
      "b: [0.00270827]\n",
      "After 16100 iteration.\n",
      "nasdaq_w: [[0.2732834]]\n",
      "oil_w: [[0.17123544]]\n",
      "b: [0.00201578]\n",
      "After 16200 iteration.\n",
      "nasdaq_w: [[0.27287388]]\n",
      "oil_w: [[0.16956714]]\n",
      "b: [0.00427444]\n",
      "After 16300 iteration.\n",
      "nasdaq_w: [[0.2717798]]\n",
      "oil_w: [[0.16926241]]\n",
      "b: [0.00314084]\n",
      "After 16400 iteration.\n",
      "nasdaq_w: [[0.2721551]]\n",
      "oil_w: [[0.16898464]]\n",
      "b: [0.00285114]\n",
      "After 16500 iteration.\n",
      "nasdaq_w: [[0.27290827]]\n",
      "oil_w: [[0.17031182]]\n",
      "b: [0.00324281]\n",
      "After 16600 iteration.\n",
      "nasdaq_w: [[0.27231976]]\n",
      "oil_w: [[0.16946566]]\n",
      "b: [0.00283342]\n",
      "After 16700 iteration.\n",
      "nasdaq_w: [[0.27311298]]\n",
      "oil_w: [[0.1704134]]\n",
      "b: [0.00196744]\n",
      "After 16800 iteration.\n",
      "nasdaq_w: [[0.27357644]]\n",
      "oil_w: [[0.17046937]]\n",
      "b: [0.00442148]\n",
      "After 16900 iteration.\n",
      "nasdaq_w: [[0.2713698]]\n",
      "oil_w: [[0.16906933]]\n",
      "b: [0.00265927]\n",
      "After 17000 iteration.\n",
      "nasdaq_w: [[0.27213773]]\n",
      "oil_w: [[0.16827686]]\n",
      "b: [0.00229128]\n",
      "After 17100 iteration.\n",
      "nasdaq_w: [[0.2723173]]\n",
      "oil_w: [[0.16958928]]\n",
      "b: [0.00318493]\n",
      "After 17200 iteration.\n",
      "nasdaq_w: [[0.27172455]]\n",
      "oil_w: [[0.16901968]]\n",
      "b: [0.00307972]\n",
      "After 17300 iteration.\n",
      "nasdaq_w: [[0.27304316]]\n",
      "oil_w: [[0.17020383]]\n",
      "b: [0.00352868]\n",
      "After 17400 iteration.\n",
      "nasdaq_w: [[0.27213734]]\n",
      "oil_w: [[0.16961971]]\n",
      "b: [0.00286983]\n",
      "After 17500 iteration.\n",
      "nasdaq_w: [[0.27169165]]\n",
      "oil_w: [[0.16899002]]\n",
      "b: [0.00303771]\n",
      "After 17600 iteration.\n",
      "nasdaq_w: [[0.2731971]]\n",
      "oil_w: [[0.1702563]]\n",
      "b: [0.00352699]\n",
      "After 17700 iteration.\n",
      "nasdaq_w: [[0.27169448]]\n",
      "oil_w: [[0.16926838]]\n",
      "b: [0.00252431]\n",
      "After 17800 iteration.\n",
      "nasdaq_w: [[0.2734209]]\n",
      "oil_w: [[0.17094123]]\n",
      "b: [0.00183133]\n",
      "After 17900 iteration.\n",
      "nasdaq_w: [[0.27410457]]\n",
      "oil_w: [[0.17119443]]\n",
      "b: [0.00391291]\n",
      "After 18000 iteration.\n",
      "nasdaq_w: [[0.27161747]]\n",
      "oil_w: [[0.1695364]]\n",
      "b: [0.00293752]\n",
      "After 18100 iteration.\n",
      "nasdaq_w: [[0.27281252]]\n",
      "oil_w: [[0.16858193]]\n",
      "b: [0.00338854]\n",
      "After 18200 iteration.\n",
      "nasdaq_w: [[0.27175838]]\n",
      "oil_w: [[0.1692537]]\n",
      "b: [0.00287101]\n",
      "After 18300 iteration.\n",
      "nasdaq_w: [[0.27230185]]\n",
      "oil_w: [[0.1693266]]\n",
      "b: [0.00326027]\n",
      "After 18400 iteration.\n",
      "nasdaq_w: [[0.27313974]]\n",
      "oil_w: [[0.1704461]]\n",
      "b: [0.00188427]\n",
      "After 18500 iteration.\n",
      "nasdaq_w: [[0.2725505]]\n",
      "oil_w: [[0.17007741]]\n",
      "b: [0.00260271]\n",
      "After 18600 iteration.\n",
      "nasdaq_w: [[0.27171236]]\n",
      "oil_w: [[0.16890866]]\n",
      "b: [0.0032791]\n",
      "After 18700 iteration.\n",
      "nasdaq_w: [[0.2729507]]\n",
      "oil_w: [[0.17008723]]\n",
      "b: [0.00296741]\n",
      "After 18800 iteration.\n",
      "nasdaq_w: [[0.27196273]]\n",
      "oil_w: [[0.16934793]]\n",
      "b: [0.00313422]\n",
      "After 18900 iteration.\n",
      "nasdaq_w: [[0.27186638]]\n",
      "oil_w: [[0.16868706]]\n",
      "b: [0.00272518]\n",
      "After 19000 iteration.\n",
      "nasdaq_w: [[0.2741293]]\n",
      "oil_w: [[0.17153448]]\n",
      "b: [0.00328268]\n",
      "After 19100 iteration.\n",
      "nasdaq_w: [[0.27223408]]\n",
      "oil_w: [[0.16976939]]\n",
      "b: [0.00349097]\n",
      "After 19200 iteration.\n",
      "nasdaq_w: [[0.27227727]]\n",
      "oil_w: [[0.16878186]]\n",
      "b: [0.00369969]\n",
      "After 19300 iteration.\n",
      "nasdaq_w: [[0.27196863]]\n",
      "oil_w: [[0.16924039]]\n",
      "b: [0.00294157]\n"
     ]
    },
    {
     "name": "stdout",
     "output_type": "stream",
     "text": [
      "After 19400 iteration.\n",
      "nasdaq_w: [[0.27168497]]\n",
      "oil_w: [[0.16916306]]\n",
      "b: [0.00279248]\n",
      "After 19500 iteration.\n",
      "nasdaq_w: [[0.27339435]]\n",
      "oil_w: [[0.17098096]]\n",
      "b: [0.00159947]\n",
      "After 19600 iteration.\n",
      "nasdaq_w: [[0.27295685]]\n",
      "oil_w: [[0.1707469]]\n",
      "b: [0.00191843]\n",
      "After 19700 iteration.\n",
      "nasdaq_w: [[0.2719213]]\n",
      "oil_w: [[0.1693658]]\n",
      "b: [0.00345463]\n",
      "After 19800 iteration.\n",
      "nasdaq_w: [[0.2733907]]\n",
      "oil_w: [[0.16996899]]\n",
      "b: [0.00381092]\n",
      "After 19900 iteration.\n",
      "nasdaq_w: [[0.27147722]]\n",
      "oil_w: [[0.16910078]]\n",
      "b: [0.00229567]\n"
     ]
    }
   ],
   "source": [
    "trained_nasdaq_w,trained_oil_w,trained_b = trainWithMultiplePointsPerEpoch(20000,train,100)"
   ]
  },
  {
   "cell_type": "code",
   "execution_count": 87,
   "metadata": {},
   "outputs": [
    {
     "data": {
      "text/plain": [
       "array([0.00322051], dtype=float32)"
      ]
     },
     "execution_count": 87,
     "metadata": {},
     "output_type": "execute_result"
    }
   ],
   "source": [
    "trained_b"
   ]
  },
  {
   "cell_type": "code",
   "execution_count": 88,
   "metadata": {},
   "outputs": [
    {
     "name": "stdout",
     "output_type": "stream",
     "text": [
      "trained_nasdaq_w: [[0.27328447]], trained_oil_w: [[0.17061117]]\n"
     ]
    }
   ],
   "source": [
    "print(\"trained_nasdaq_w: {}, trained_oil_w: {}\".format(trained_nasdaq_w,trained_oil_w))"
   ]
  },
  {
   "cell_type": "code",
   "execution_count": 89,
   "metadata": {},
   "outputs": [],
   "source": [
    "a = trained_nasdaq_w*nasdaqData + trained_oil_w*oilData + trained_b"
   ]
  },
  {
   "cell_type": "code",
   "execution_count": 92,
   "metadata": {},
   "outputs": [],
   "source": [
    "a = a.squeeze()"
   ]
  },
  {
   "cell_type": "code",
   "execution_count": 94,
   "metadata": {},
   "outputs": [],
   "source": [
    "true = xomData\n",
    "predicted = a\n",
    "sum_of_square_residuals = np.sum(np.square(true - predicted))\n",
    "sum_of_square_total = np.sum(np.square(true - np.average(predicted)))"
   ]
  },
  {
   "cell_type": "code",
   "execution_count": 95,
   "metadata": {},
   "outputs": [],
   "source": [
    "r_squarred = 1 - np.divide(sum_of_square_residuals,sum_of_square_total)"
   ]
  },
  {
   "cell_type": "code",
   "execution_count": 97,
   "metadata": {},
   "outputs": [
    {
     "name": "stdout",
     "output_type": "stream",
     "text": [
      "The R-Squarred Error is: 0.22384929201607706\n"
     ]
    }
   ],
   "source": [
    "print(\"The R-Squarred Error is: {}\".format(r_squarred))"
   ]
  },
  {
   "cell_type": "markdown",
   "metadata": {},
   "source": [
    "### Better Explanation of Data"
   ]
  },
  {
   "cell_type": "code",
   "execution_count": 4,
   "metadata": {},
   "outputs": [],
   "source": [
    "googFile = 'data/GOOG.csv'\n",
    "spFile = 'data/SP_500.csv'"
   ]
  },
  {
   "cell_type": "code",
   "execution_count": 7,
   "metadata": {},
   "outputs": [],
   "source": [
    "df1 = pd.read_csv(googFile,sep=',',usecols=[0,5],names=['Date','Goog'],header=0)"
   ]
  },
  {
   "cell_type": "code",
   "execution_count": 14,
   "metadata": {},
   "outputs": [
    {
     "data": {
      "image/png": "[encoded data removed]",
      "text/plain": [
       "<matplotlib.figure.Figure at 0x25b37837dd8>"
      ]
     },
     "metadata": {},
     "output_type": "display_data"
    }
   ],
   "source": [
    "df1.plot(x='Date',y='Goog')\n",
    "plt.show()"
   ]
  },
  {
   "cell_type": "code",
   "execution_count": 15,
   "metadata": {},
   "outputs": [],
   "source": [
    "df2 = pd.read_csv(spFile,sep=',',usecols=[0,5],names=['Date','SP500'],header=0)"
   ]
  },
  {
   "cell_type": "code",
   "execution_count": 16,
   "metadata": {},
   "outputs": [
    {
     "data": {
      "text/html": [
       "<div>\n",
       "<style scoped>\n",
       "    .dataframe tbody tr th:only-of-type {\n",
       "        vertical-align: middle;\n",
       "    }\n",
       "\n",
       "    .dataframe tbody tr th {\n",
       "        vertical-align: top;\n",
       "    }\n",
       "\n",
       "    .dataframe thead th {\n",
       "        text-align: right;\n",
       "    }\n",
       "</style>\n",
       "<table border=\"1\" class=\"dataframe\">\n",
       "  <thead>\n",
       "    <tr style=\"text-align: right;\">\n",
       "      <th></th>\n",
       "      <th>Date</th>\n",
       "      <th>SP500</th>\n",
       "    </tr>\n",
       "  </thead>\n",
       "  <tbody>\n",
       "    <tr>\n",
       "      <th>0</th>\n",
       "      <td>2007-01-01</td>\n",
       "      <td>1438.239990</td>\n",
       "    </tr>\n",
       "    <tr>\n",
       "      <th>1</th>\n",
       "      <td>2007-02-01</td>\n",
       "      <td>1406.819946</td>\n",
       "    </tr>\n",
       "    <tr>\n",
       "      <th>2</th>\n",
       "      <td>2007-03-01</td>\n",
       "      <td>1420.859985</td>\n",
       "    </tr>\n",
       "    <tr>\n",
       "      <th>3</th>\n",
       "      <td>2007-04-01</td>\n",
       "      <td>1482.369995</td>\n",
       "    </tr>\n",
       "    <tr>\n",
       "      <th>4</th>\n",
       "      <td>2007-05-01</td>\n",
       "      <td>1530.619995</td>\n",
       "    </tr>\n",
       "  </tbody>\n",
       "</table>\n",
       "</div>"
      ],
      "text/plain": [
       "         Date        SP500\n",
       "0  2007-01-01  1438.239990\n",
       "1  2007-02-01  1406.819946\n",
       "2  2007-03-01  1420.859985\n",
       "3  2007-04-01  1482.369995\n",
       "4  2007-05-01  1530.619995"
      ]
     },
     "execution_count": 16,
     "metadata": {},
     "output_type": "execute_result"
    }
   ],
   "source": [
    "df2.head()"
   ]
  },
  {
   "cell_type": "code",
   "execution_count": 17,
   "metadata": {},
   "outputs": [
    {
     "data": {
      "text/plain": [
       "<matplotlib.axes._subplots.AxesSubplot at 0x25b37a95278>"
      ]
     },
     "execution_count": 17,
     "metadata": {},
     "output_type": "execute_result"
    },
    {
     "data": {
      "image/png": "[encoded data removed]",
      "text/plain": [
       "<matplotlib.figure.Figure at 0x25b38aabef0>"
      ]
     },
     "metadata": {},
     "output_type": "display_data"
    }
   ],
   "source": [
    "df2.plot(x='Date',y='SP500')"
   ]
  },
  {
   "cell_type": "code",
   "execution_count": 18,
   "metadata": {},
   "outputs": [],
   "source": [
    "df1['SP500'] = df2['SP500']"
   ]
  },
  {
   "cell_type": "code",
   "execution_count": 19,
   "metadata": {},
   "outputs": [
    {
     "data": {
      "text/plain": [
       "Index(['Date', 'Goog', 'SP500'], dtype='object')"
      ]
     },
     "execution_count": 19,
     "metadata": {},
     "output_type": "execute_result"
    }
   ],
   "source": [
    "df1.keys()"
   ]
  },
  {
   "cell_type": "code",
   "execution_count": 22,
   "metadata": {},
   "outputs": [
    {
     "data": {
      "text/plain": [
       "array([<matplotlib.axes._subplots.AxesSubplot object at 0x0000025B38C3C5C0>],\n",
       "      dtype=object)"
      ]
     },
     "execution_count": 22,
     "metadata": {},
     "output_type": "execute_result"
    },
    {
     "data": {
      "image/png": "[encoded data removed]",
      "text/plain": [
       "<matplotlib.figure.Figure at 0x25b38b9cf28>"
      ]
     },
     "metadata": {},
     "output_type": "display_data"
    },
    {
     "data": {
      "image/png": "[encoded data removed]",
      "text/plain": [
       "<matplotlib.figure.Figure at 0x25b38b9cf60>"
      ]
     },
     "metadata": {},
     "output_type": "display_data"
    }
   ],
   "source": [
    "df1.plot(x='Date',y='Goog',subplots=True)\n",
    "df1.plot(x='Date',y='SP500',subplots=True)"
   ]
  },
  {
   "cell_type": "code",
   "execution_count": 23,
   "metadata": {},
   "outputs": [
    {
     "data": {
      "text/html": [
       "<div>\n",
       "<style scoped>\n",
       "    .dataframe tbody tr th:only-of-type {\n",
       "        vertical-align: middle;\n",
       "    }\n",
       "\n",
       "    .dataframe tbody tr th {\n",
       "        vertical-align: top;\n",
       "    }\n",
       "\n",
       "    .dataframe thead th {\n",
       "        text-align: right;\n",
       "    }\n",
       "</style>\n",
       "<table border=\"1\" class=\"dataframe\">\n",
       "  <thead>\n",
       "    <tr style=\"text-align: right;\">\n",
       "      <th></th>\n",
       "      <th>Date</th>\n",
       "      <th>Goog</th>\n",
       "      <th>SP500</th>\n",
       "    </tr>\n",
       "  </thead>\n",
       "  <tbody>\n",
       "    <tr>\n",
       "      <th>0</th>\n",
       "      <td>2007-01-01</td>\n",
       "      <td>249.813644</td>\n",
       "      <td>1438.239990</td>\n",
       "    </tr>\n",
       "    <tr>\n",
       "      <th>1</th>\n",
       "      <td>2007-02-01</td>\n",
       "      <td>223.885818</td>\n",
       "      <td>1406.819946</td>\n",
       "    </tr>\n",
       "    <tr>\n",
       "      <th>2</th>\n",
       "      <td>2007-03-01</td>\n",
       "      <td>228.224564</td>\n",
       "      <td>1420.859985</td>\n",
       "    </tr>\n",
       "    <tr>\n",
       "      <th>3</th>\n",
       "      <td>2007-04-01</td>\n",
       "      <td>234.809875</td>\n",
       "      <td>1482.369995</td>\n",
       "    </tr>\n",
       "    <tr>\n",
       "      <th>4</th>\n",
       "      <td>2007-05-01</td>\n",
       "      <td>248.025345</td>\n",
       "      <td>1530.619995</td>\n",
       "    </tr>\n",
       "  </tbody>\n",
       "</table>\n",
       "</div>"
      ],
      "text/plain": [
       "         Date        Goog        SP500\n",
       "0  2007-01-01  249.813644  1438.239990\n",
       "1  2007-02-01  223.885818  1406.819946\n",
       "2  2007-03-01  228.224564  1420.859985\n",
       "3  2007-04-01  234.809875  1482.369995\n",
       "4  2007-05-01  248.025345  1530.619995"
      ]
     },
     "execution_count": 23,
     "metadata": {},
     "output_type": "execute_result"
    }
   ],
   "source": [
    "df1.head()"
   ]
  },
  {
   "cell_type": "code",
   "execution_count": 25,
   "metadata": {},
   "outputs": [],
   "source": [
    "df1['Date'] = pd.to_datetime(df1['Date'],format='%Y-%m-%d')"
   ]
  },
  {
   "cell_type": "code",
   "execution_count": 26,
   "metadata": {},
   "outputs": [
    {
     "data": {
      "text/html": [
       "<div>\n",
       "<style scoped>\n",
       "    .dataframe tbody tr th:only-of-type {\n",
       "        vertical-align: middle;\n",
       "    }\n",
       "\n",
       "    .dataframe tbody tr th {\n",
       "        vertical-align: top;\n",
       "    }\n",
       "\n",
       "    .dataframe thead th {\n",
       "        text-align: right;\n",
       "    }\n",
       "</style>\n",
       "<table border=\"1\" class=\"dataframe\">\n",
       "  <thead>\n",
       "    <tr style=\"text-align: right;\">\n",
       "      <th></th>\n",
       "      <th>Date</th>\n",
       "      <th>Goog</th>\n",
       "      <th>SP500</th>\n",
       "    </tr>\n",
       "  </thead>\n",
       "  <tbody>\n",
       "    <tr>\n",
       "      <th>0</th>\n",
       "      <td>2007-01-01</td>\n",
       "      <td>249.813644</td>\n",
       "      <td>1438.239990</td>\n",
       "    </tr>\n",
       "    <tr>\n",
       "      <th>1</th>\n",
       "      <td>2007-02-01</td>\n",
       "      <td>223.885818</td>\n",
       "      <td>1406.819946</td>\n",
       "    </tr>\n",
       "    <tr>\n",
       "      <th>2</th>\n",
       "      <td>2007-03-01</td>\n",
       "      <td>228.224564</td>\n",
       "      <td>1420.859985</td>\n",
       "    </tr>\n",
       "    <tr>\n",
       "      <th>3</th>\n",
       "      <td>2007-04-01</td>\n",
       "      <td>234.809875</td>\n",
       "      <td>1482.369995</td>\n",
       "    </tr>\n",
       "    <tr>\n",
       "      <th>4</th>\n",
       "      <td>2007-05-01</td>\n",
       "      <td>248.025345</td>\n",
       "      <td>1530.619995</td>\n",
       "    </tr>\n",
       "  </tbody>\n",
       "</table>\n",
       "</div>"
      ],
      "text/plain": [
       "        Date        Goog        SP500\n",
       "0 2007-01-01  249.813644  1438.239990\n",
       "1 2007-02-01  223.885818  1406.819946\n",
       "2 2007-03-01  228.224564  1420.859985\n",
       "3 2007-04-01  234.809875  1482.369995\n",
       "4 2007-05-01  248.025345  1530.619995"
      ]
     },
     "execution_count": 26,
     "metadata": {},
     "output_type": "execute_result"
    }
   ],
   "source": [
    "df1.head()"
   ]
  },
  {
   "cell_type": "code",
   "execution_count": 28,
   "metadata": {},
   "outputs": [],
   "source": [
    "df1 = df1.sort_values('Date')"
   ]
  },
  {
   "cell_type": "code",
   "execution_count": 35,
   "metadata": {},
   "outputs": [],
   "source": [
    "returns = df1[[key for key in dict(df1.dtypes) if dict(df1.dtypes)[key] in ['float64','int64']]].pct_change()"
   ]
  },
  {
   "cell_type": "code",
   "execution_count": 37,
   "metadata": {},
   "outputs": [],
   "source": [
    "xData = np.array(df1['SP500'][1:])"
   ]
  },
  {
   "cell_type": "code",
   "execution_count": 39,
   "metadata": {},
   "outputs": [],
   "source": [
    "yData = np.array(df1['Goog'][1:])"
   ]
  }
 ],
 "metadata": {
  "kernelspec": {
   "display_name": "Python 3",
   "language": "python",
   "name": "python3"
  },
  "language_info": {
   "codemirror_mode": {
    "name": "ipython",
    "version": 3
   },
   "file_extension": ".py",
   "mimetype": "text/x-python",
   "name": "python",
   "nbconvert_exporter": "python",
   "pygments_lexer": "ipython3",
   "version": "3.5.2"
  },
  "widgets": {
   "state": {},
   "version": "1.1.2"
  }
 },
 "nbformat": 4,
 "nbformat_minor": 2
}
