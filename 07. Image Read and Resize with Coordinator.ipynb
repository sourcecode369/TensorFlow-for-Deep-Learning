{
 "cells": [
  {
   "cell_type": "code",
   "execution_count": 1,
   "metadata": {},
   "outputs": [],
   "source": [
    "import tensorflow as tf"
   ]
  },
  {
   "cell_type": "code",
   "execution_count": 2,
   "metadata": {},
   "outputs": [],
   "source": [
    "original_image_list = [\"./images/Tensorflow.jpg\",\n",
    "                       \"./images/deeplearning.jpg\"]"
   ]
  },
  {
   "cell_type": "code",
   "execution_count": 3,
   "metadata": {},
   "outputs": [],
   "source": [
    "filename_queue = tf.train.string_input_producer(original_image_list)"
   ]
  },
  {
   "cell_type": "code",
   "execution_count": 4,
   "metadata": {},
   "outputs": [],
   "source": [
    "image_reader = tf.WholeFileReader()"
   ]
  },
  {
   "cell_type": "code",
   "execution_count": 5,
   "metadata": {},
   "outputs": [
    {
     "name": "stdout",
     "output_type": "stream",
     "text": [
      "(244, 244, 1)\n",
      "(244, 244, 3)\n"
     ]
    }
   ],
   "source": [
    "with tf.Session() as sess:\n",
    "    #Coordinate the loading of image files\n",
    "    coord = tf.train.Coordinator()\n",
    "    threads = tf.train.start_queue_runners(sess=sess,coord=coord)\n",
    "    image_list = [];\n",
    "    \n",
    "    for i in range(len(original_image_list)):\n",
    "        # Read a whole file from the queue, the first returned value in the tuple\n",
    "        # is the filename which we are ignoring.\n",
    "        _, image_file = image_reader.read(filename_queue)\n",
    "        image = tf.image.decode_jpeg(image_file)\n",
    "        \n",
    "        # Decode the image as a jpeg file, this will turn it into a Tensor which we can \n",
    "        # then use in training.\n",
    "        image = tf.image.decode_jpeg(image_file)\n",
    "        \n",
    "        # Get a tensor of resized image\n",
    "        image = tf.image.resize_images(image, [244,244])\n",
    "        image.set_shape((244, 244, 3))\n",
    "        \n",
    "        # Get an image tensor and print its value\n",
    "        image_array = sess.run(image)\n",
    "        print(image_array.shape)\n",
    "        \n",
    "        image_list.append(tf.expand_dims(image_array, 0))\n",
    "        \n",
    "    # Finish off the filename queue coordinator\n",
    "    coord.request_stop()\n",
    "    coord.join(threads)\n",
    "    index = 0\n",
    "    \n",
    "    # Write image summary\n",
    "    summary_writer = tf.summary.FileWriter('./ImageReadandResizewithCoordinator',graph = sess.graph)\n",
    "    \n",
    "    for image_tensor in image_list:\n",
    "        summary_str = sess.run(tf.summary.image(\"image-\" + str(index), image_tensor))\n",
    "        summary_writer.add_summary(summary_str)\n",
    "        index+=1\n",
    "        \n",
    "    summary_writer.close()"
   ]
  }
 ],
 "metadata": {
  "kernelspec": {
   "display_name": "Python 3",
   "language": "python",
   "name": "python3"
  },
  "language_info": {
   "codemirror_mode": {
    "name": "ipython",
    "version": 3
   },
   "file_extension": ".py",
   "mimetype": "text/x-python",
   "name": "python",
   "nbconvert_exporter": "python",
   "pygments_lexer": "ipython3",
   "version": "3.5.2"
  },
  "widgets": {
   "state": {},
   "version": "1.1.2"
  }
 },
 "nbformat": 4,
 "nbformat_minor": 2
}
