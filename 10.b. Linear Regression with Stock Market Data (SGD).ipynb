{
 "cells": [
  {
   "cell_type": "markdown",
   "metadata": {},
   "source": [
    "## Importing Dependencies"
   ]
  },
  {
   "cell_type": "code",
   "execution_count": 1,
   "metadata": {},
   "outputs": [],
   "source": [
    "import numpy as np"
   ]
  },
  {
   "cell_type": "code",
   "execution_count": 2,
   "metadata": {},
   "outputs": [],
   "source": [
    "import pandas as pd"
   ]
  },
  {
   "cell_type": "code",
   "execution_count": 3,
   "metadata": {},
   "outputs": [],
   "source": [
    "import tensorflow as tf\n",
    "import matplotlib.pyplot as plt\n",
    "%matplotlib inline"
   ]
  },
  {
   "cell_type": "markdown",
   "metadata": {},
   "source": [
    "## Data Preparation"
   ]
  },
  {
   "cell_type": "code",
   "execution_count": 4,
   "metadata": {},
   "outputs": [],
   "source": [
    "def read_goog_sp500_dataframe():\n",
    "    googFile = 'data/GOOG.csv'\n",
    "    spFile = 'data/SP_500.csv'\n",
    "    \n",
    "    goog = pd.read_csv(googFile,sep=',',usecols=[0,5],names=['Date','Goog'],header=0)\n",
    "    sp = pd.read_csv(spFile,sep=',',usecols=[0,5],names=['Date','SP500'],header=0)\n",
    "    \n",
    "    goog['SP500'] = sp['SP500']\n",
    "    \n",
    "    goog['Date'] = pd.to_datetime(goog['Date'],format='%Y-%m-%d')\n",
    "    \n",
    "    goog = goog.sort_values(['Date'],ascending=True)\n",
    "    \n",
    "    returns = goog[[key for key in dict(goog.dtypes) if dict(goog.dtypes)[key] in ['float64','int64']]].pct_change()\n",
    "    \n",
    "    return returns"
   ]
  },
  {
   "cell_type": "code",
   "execution_count": 5,
   "metadata": {},
   "outputs": [],
   "source": [
    "def read_goog_sp500_data():\n",
    "    returns = read_goog_sp500_dataframe()\n",
    "    xData = np.array(returns[\"SP500\"])[1:]\n",
    "    yData = np.array(returns[\"Goog\"])[1:]\n",
    "    return (xData,yData)"
   ]
  },
  {
   "cell_type": "markdown",
   "metadata": {},
   "source": [
    "## Scikit Learn Benchmark "
   ]
  },
  {
   "cell_type": "code",
   "execution_count": 6,
   "metadata": {},
   "outputs": [],
   "source": [
    "from sklearn import datasets, linear_model"
   ]
  },
  {
   "cell_type": "code",
   "execution_count": 7,
   "metadata": {},
   "outputs": [],
   "source": [
    "xData, yData = read_goog_sp500_data()"
   ]
  },
  {
   "cell_type": "code",
   "execution_count": 8,
   "metadata": {},
   "outputs": [],
   "source": [
    "googModel = linear_model.LinearRegression()"
   ]
  },
  {
   "cell_type": "code",
   "execution_count": 9,
   "metadata": {},
   "outputs": [
    {
     "data": {
      "text/plain": [
       "LinearRegression(copy_X=True, fit_intercept=True, n_jobs=1, normalize=False)"
      ]
     },
     "execution_count": 9,
     "metadata": {},
     "output_type": "execute_result"
    }
   ],
   "source": [
    "googModel.fit(xData.reshape(-1,1),yData.reshape(-1,1))"
   ]
  },
  {
   "cell_type": "code",
   "execution_count": 10,
   "metadata": {},
   "outputs": [
    {
     "data": {
      "text/plain": [
       "array([[1.06768973]])"
      ]
     },
     "execution_count": 10,
     "metadata": {},
     "output_type": "execute_result"
    }
   ],
   "source": [
    "googModel.coef_"
   ]
  },
  {
   "cell_type": "code",
   "execution_count": 11,
   "metadata": {},
   "outputs": [
    {
     "data": {
      "text/plain": [
       "array([0.0084649])"
      ]
     },
     "execution_count": 11,
     "metadata": {},
     "output_type": "execute_result"
    }
   ],
   "source": [
    "googModel.intercept_"
   ]
  },
  {
   "cell_type": "code",
   "execution_count": 12,
   "metadata": {},
   "outputs": [],
   "source": [
    "pred = googModel.predict(xData.reshape(-1,1))"
   ]
  },
  {
   "cell_type": "code",
   "execution_count": 13,
   "metadata": {},
   "outputs": [
    {
     "data": {
      "image/png": "[encoded data removed]",
      "text/plain": [
       "<matplotlib.figure.Figure at 0x1f0354f8e48>"
      ]
     },
     "metadata": {},
     "output_type": "display_data"
    }
   ],
   "source": [
    "plt.scatter(xData,yData,c='y')\n",
    "plt.plot(xData,pred,c='r')\n",
    "plt.show()"
   ]
  },
  {
   "cell_type": "markdown",
   "metadata": {},
   "source": [
    "#### Squared Error"
   ]
  },
  {
   "cell_type": "code",
   "execution_count": 14,
   "metadata": {},
   "outputs": [],
   "source": [
    "error = np.sum(np.square(pred-yData.reshape(-1,1)))"
   ]
  },
  {
   "cell_type": "code",
   "execution_count": 15,
   "metadata": {},
   "outputs": [
    {
     "name": "stdout",
     "output_type": "stream",
     "text": [
      "0.5796166072844982\n"
     ]
    }
   ],
   "source": [
    "print(error)"
   ]
  },
  {
   "cell_type": "markdown",
   "metadata": {},
   "source": [
    "#### Mean Squarred Error"
   ]
  },
  {
   "cell_type": "code",
   "execution_count": 16,
   "metadata": {},
   "outputs": [],
   "source": [
    "sum_error = np.sqrt(error)"
   ]
  },
  {
   "cell_type": "code",
   "execution_count": 17,
   "metadata": {},
   "outputs": [
    {
     "name": "stdout",
     "output_type": "stream",
     "text": [
      "0.7613255593269532\n"
     ]
    }
   ],
   "source": [
    "print(sum_error)"
   ]
  },
  {
   "cell_type": "markdown",
   "metadata": {},
   "source": [
    "## Tensorflow Implementation"
   ]
  },
  {
   "cell_type": "code",
   "execution_count": 80,
   "metadata": {},
   "outputs": [],
   "source": [
    "import tensorflow as tf"
   ]
  },
  {
   "cell_type": "code",
   "execution_count": 81,
   "metadata": {},
   "outputs": [],
   "source": [
    "w = tf.Variable(tf.zeros([1,1]),name='w',dtype=tf.float32)\n",
    "b = tf.Variable(tf.zeros([1]),name='b',dtype=tf.float32)"
   ]
  },
  {
   "cell_type": "code",
   "execution_count": 82,
   "metadata": {},
   "outputs": [],
   "source": [
    "x = tf.placeholder(dtype=tf.float32,shape=[None,1],name='x')"
   ]
  },
  {
   "cell_type": "code",
   "execution_count": 83,
   "metadata": {},
   "outputs": [],
   "source": [
    "y_ = tf.placeholder(dtype=tf.float32,shape=[None,1],name='y_')"
   ]
  },
  {
   "cell_type": "code",
   "execution_count": 84,
   "metadata": {},
   "outputs": [],
   "source": [
    "wx = tf.matmul(x,w)\n",
    "y = wx+b"
   ]
  },
  {
   "cell_type": "code",
   "execution_count": 85,
   "metadata": {},
   "outputs": [],
   "source": [
    "loss = tf.reduce_sum(tf.square(y_ - y))"
   ]
  },
  {
   "cell_type": "code",
   "execution_count": 86,
   "metadata": {},
   "outputs": [],
   "source": [
    "optimizer = tf.train.FtrlOptimizer(0.1)"
   ]
  },
  {
   "cell_type": "code",
   "execution_count": 87,
   "metadata": {},
   "outputs": [],
   "source": [
    "train = optimizer.minimize(loss)"
   ]
  },
  {
   "cell_type": "code",
   "execution_count": 88,
   "metadata": {},
   "outputs": [],
   "source": [
    "dataset_size = len(xData)"
   ]
  },
  {
   "cell_type": "code",
   "execution_count": 92,
   "metadata": {},
   "outputs": [],
   "source": [
    "def trainWithMultiplePointsPerEpoch(steps, train_step, batch_size):\n",
    "    init = tf.global_variables_initializer()\n",
    "    with tf.Session() as sess:\n",
    "        sess.run(init)\n",
    "        for i in range(steps):\n",
    "            if dataset_size==batch_size:\n",
    "                batch_start_idx = 0\n",
    "            elif dataset_size<batch_size:\n",
    "                raise ValueError(\"Dataset size %d must be greater than Batch size %d\"%(dataset_size,batch_size))\n",
    "            else:\n",
    "                batch_start_idx = (i * batch_size) % (dataset_size)\n",
    "            batch_end_idx = batch_start_idx + batch_size\n",
    "            \n",
    "            #Acess the x and y values in batches\n",
    "            batch_xs = xData[batch_start_idx:batch_end_idx]\n",
    "            batch_ys = yData[batch_start_idx:batch_end_idx]\n",
    "            feed_dict = {x:batch_xs.reshape(-1,1),y_:batch_ys.reshape(-1,1)}\n",
    "            sess.run(train_step,feed_dict=feed_dict)\n",
    "            if (i)%100==0:\n",
    "                print(\"After {} iteration.\".format(i))\n",
    "                print(\"w: {}\".format(sess.run(w)))\n",
    "                print(\"b: {}\".format(sess.run(b)))\n",
    "        trained_w = sess.run(w)\n",
    "        trained_b = sess.run(b)\n",
    "    return trained_w, trained_b"
   ]
  },
  {
   "cell_type": "code",
   "execution_count": 93,
   "metadata": {},
   "outputs": [
    {
     "name": "stdout",
     "output_type": "stream",
     "text": [
      "After 0 iteration.\n",
      "w: [[0.08205541]]\n",
      "b: [0.09901493]\n",
      "After 100 iteration.\n",
      "w: [[0.8150959]]\n",
      "b: [0.00898862]\n",
      "After 200 iteration.\n",
      "w: [[0.9475568]]\n",
      "b: [0.01012184]\n",
      "After 300 iteration.\n",
      "w: [[0.9825012]]\n",
      "b: [0.01041563]\n",
      "After 400 iteration.\n",
      "w: [[0.9921248]]\n",
      "b: [0.00923481]\n",
      "After 500 iteration.\n",
      "w: [[0.9993559]]\n",
      "b: [0.01105842]\n",
      "After 600 iteration.\n",
      "w: [[0.9994891]]\n",
      "b: [0.00803257]\n",
      "After 700 iteration.\n",
      "w: [[0.99726444]]\n",
      "b: [0.00994576]\n",
      "After 800 iteration.\n",
      "w: [[0.99307686]]\n",
      "b: [0.00699291]\n",
      "After 900 iteration.\n",
      "w: [[0.99487257]]\n",
      "b: [0.00600012]\n",
      "After 1000 iteration.\n",
      "w: [[0.9969387]]\n",
      "b: [0.00848509]\n",
      "After 1100 iteration.\n",
      "w: [[1.0028144]]\n",
      "b: [0.00958321]\n",
      "After 1200 iteration.\n",
      "w: [[1.0013763]]\n",
      "b: [0.00808819]\n",
      "After 1300 iteration.\n",
      "w: [[0.99543774]]\n",
      "b: [0.01177861]\n",
      "After 1400 iteration.\n",
      "w: [[0.995677]]\n",
      "b: [0.01034882]\n",
      "After 1500 iteration.\n",
      "w: [[0.99452174]]\n",
      "b: [0.00979003]\n",
      "After 1600 iteration.\n",
      "w: [[1.0000916]]\n",
      "b: [0.00931873]\n",
      "After 1700 iteration.\n",
      "w: [[1.0008686]]\n",
      "b: [0.00688411]\n",
      "After 1800 iteration.\n",
      "w: [[0.9999332]]\n",
      "b: [0.00978202]\n",
      "After 1900 iteration.\n",
      "w: [[0.9948772]]\n",
      "b: [0.00873839]\n",
      "After 2000 iteration.\n",
      "w: [[0.9943391]]\n",
      "b: [0.00716032]\n",
      "After 2100 iteration.\n",
      "w: [[0.99695486]]\n",
      "b: [0.00599327]\n",
      "After 2200 iteration.\n",
      "w: [[1.0000795]]\n",
      "b: [0.00965487]\n",
      "After 2300 iteration.\n",
      "w: [[1.001112]]\n",
      "b: [0.00915693]\n",
      "After 2400 iteration.\n",
      "w: [[0.99899036]]\n",
      "b: [0.01162394]\n",
      "After 2500 iteration.\n",
      "w: [[0.9944772]]\n",
      "b: [0.00713059]\n",
      "After 2600 iteration.\n",
      "w: [[0.9951537]]\n",
      "b: [0.00977064]\n",
      "After 2700 iteration.\n",
      "w: [[0.99848676]]\n",
      "b: [0.00874004]\n",
      "After 2800 iteration.\n",
      "w: [[1.0008557]]\n",
      "b: [0.00728729]\n",
      "After 2900 iteration.\n",
      "w: [[1.0028138]]\n",
      "b: [0.0096645]\n",
      "After 3000 iteration.\n",
      "w: [[0.9958417]]\n",
      "b: [0.00960432]\n",
      "After 3100 iteration.\n",
      "w: [[0.9961555]]\n",
      "b: [0.00855568]\n",
      "After 3200 iteration.\n",
      "w: [[0.9951233]]\n",
      "b: [0.00800401]\n",
      "After 3300 iteration.\n",
      "w: [[1.0005016]]\n",
      "b: [0.00997909]\n",
      "After 3400 iteration.\n",
      "w: [[0.9998427]]\n",
      "b: [0.01063571]\n",
      "After 3500 iteration.\n",
      "w: [[1.0007952]]\n",
      "b: [0.01014837]\n",
      "After 3600 iteration.\n",
      "w: [[0.99543923]]\n",
      "b: [0.00796071]\n",
      "After 3700 iteration.\n",
      "w: [[0.99424]]\n",
      "b: [0.00965325]\n",
      "After 3800 iteration.\n",
      "w: [[0.99781346]]\n",
      "b: [0.00673008]\n",
      "After 3900 iteration.\n",
      "w: [[0.99878424]]\n",
      "b: [0.00776709]\n",
      "After 4000 iteration.\n",
      "w: [[1.0021734]]\n",
      "b: [0.0093182]\n",
      "After 4100 iteration.\n",
      "w: [[0.9988407]]\n",
      "b: [0.01002992]\n",
      "After 4200 iteration.\n",
      "w: [[0.9964423]]\n",
      "b: [0.0088547]\n",
      "After 4300 iteration.\n",
      "w: [[0.9958043]]\n",
      "b: [0.00942923]\n",
      "After 4400 iteration.\n",
      "w: [[0.9986902]]\n",
      "b: [0.00976158]\n",
      "After 4500 iteration.\n",
      "w: [[0.9998511]]\n",
      "b: [0.00892305]\n",
      "After 4600 iteration.\n",
      "w: [[1.003069]]\n",
      "b: [0.0093131]\n",
      "After 4700 iteration.\n",
      "w: [[0.99618024]]\n",
      "b: [0.00884852]\n",
      "After 4800 iteration.\n",
      "w: [[0.9957548]]\n",
      "b: [0.00976067]\n",
      "After 4900 iteration.\n",
      "w: [[0.9958382]]\n",
      "b: [0.00789116]\n",
      "After 5000 iteration.\n",
      "w: [[0.9982007]]\n",
      "b: [0.00740916]\n",
      "After 5100 iteration.\n",
      "w: [[1.0005456]]\n",
      "b: [0.009591]\n",
      "After 5200 iteration.\n",
      "w: [[1.0002841]]\n",
      "b: [0.00814481]\n",
      "After 5300 iteration.\n",
      "w: [[0.9979777]]\n",
      "b: [0.00878719]\n",
      "After 5400 iteration.\n",
      "w: [[0.9946722]]\n",
      "b: [0.00809716]\n",
      "After 5500 iteration.\n",
      "w: [[0.99794316]]\n",
      "b: [0.00695683]\n",
      "After 5600 iteration.\n",
      "w: [[0.9976086]]\n",
      "b: [0.00881128]\n",
      "After 5700 iteration.\n",
      "w: [[1.002519]]\n",
      "b: [0.00944775]\n",
      "After 5800 iteration.\n",
      "w: [[0.9988485]]\n",
      "b: [0.00923228]\n",
      "After 5900 iteration.\n",
      "w: [[0.9963083]]\n",
      "b: [0.00947722]\n",
      "After 6000 iteration.\n",
      "w: [[0.9965219]]\n",
      "b: [0.00957347]\n",
      "After 6100 iteration.\n",
      "w: [[0.9969704]]\n",
      "b: [0.00679029]\n",
      "After 6200 iteration.\n",
      "w: [[1.000022]]\n",
      "b: [0.00939973]\n",
      "After 6300 iteration.\n",
      "w: [[1.0022974]]\n",
      "b: [0.00659525]\n",
      "After 6400 iteration.\n",
      "w: [[0.99901867]]\n",
      "b: [0.00852471]\n",
      "After 6500 iteration.\n",
      "w: [[0.9959997]]\n",
      "b: [0.00902436]\n",
      "After 6600 iteration.\n",
      "w: [[0.9961255]]\n",
      "b: [0.00779945]\n",
      "After 6700 iteration.\n",
      "w: [[0.9970752]]\n",
      "b: [0.00759407]\n",
      "After 6800 iteration.\n",
      "w: [[1.0006405]]\n",
      "b: [0.00939405]\n",
      "After 6900 iteration.\n",
      "w: [[1.000302]]\n",
      "b: [0.00856574]\n",
      "After 7000 iteration.\n",
      "w: [[0.9987448]]\n",
      "b: [0.01026637]\n",
      "After 7100 iteration.\n",
      "w: [[0.99533707]]\n",
      "b: [0.0077674]\n",
      "After 7200 iteration.\n",
      "w: [[0.9966943]]\n",
      "b: [0.00770707]\n",
      "After 7300 iteration.\n",
      "w: [[0.99800825]]\n",
      "b: [0.00814222]\n",
      "After 7400 iteration.\n",
      "w: [[1.0022523]]\n",
      "b: [0.00858658]\n",
      "After 7500 iteration.\n",
      "w: [[1.0013833]]\n",
      "b: [0.00865567]\n",
      "After 7600 iteration.\n",
      "w: [[0.9968855]]\n",
      "b: [0.010481]\n",
      "After 7700 iteration.\n",
      "w: [[0.99704415]]\n",
      "b: [0.00959303]\n",
      "After 7800 iteration.\n",
      "w: [[0.9960203]]\n",
      "b: [0.00903094]\n",
      "After 7900 iteration.\n",
      "w: [[1.0001686]]\n",
      "b: [0.00872569]\n",
      "After 8000 iteration.\n",
      "w: [[1.0008767]]\n",
      "b: [0.00829483]\n",
      "After 8100 iteration.\n",
      "w: [[1.0001395]]\n",
      "b: [0.00967523]\n",
      "After 8200 iteration.\n",
      "w: [[0.9963573]]\n",
      "b: [0.00870573]\n",
      "After 8300 iteration.\n",
      "w: [[0.9958499]]\n",
      "b: [0.00797035]\n",
      "After 8400 iteration.\n",
      "w: [[0.997748]]\n",
      "b: [0.00642478]\n",
      "After 8500 iteration.\n",
      "w: [[1.0000786]]\n",
      "b: [0.00900708]\n",
      "After 8600 iteration.\n",
      "w: [[1.0009369]]\n",
      "b: [0.00913757]\n",
      "After 8700 iteration.\n",
      "w: [[0.99936587]]\n",
      "b: [0.01071557]\n",
      "After 8800 iteration.\n",
      "w: [[0.9958672]]\n",
      "b: [0.00774776]\n",
      "After 8900 iteration.\n",
      "w: [[0.9963986]]\n",
      "b: [0.0096045]\n",
      "After 9000 iteration.\n",
      "w: [[0.9987998]]\n",
      "b: [0.0082665]\n",
      "After 9100 iteration.\n",
      "w: [[1.000672]]\n",
      "b: [0.00781708]\n",
      "After 9200 iteration.\n",
      "w: [[1.0022111]]\n",
      "b: [0.00929957]\n",
      "After 9300 iteration.\n",
      "w: [[0.996849]]\n",
      "b: [0.00928451]\n",
      "After 9400 iteration.\n",
      "w: [[0.99712086]]\n",
      "b: [0.00885501]\n",
      "After 9500 iteration.\n",
      "w: [[0.99617684]]\n",
      "b: [0.00798062]\n",
      "After 9600 iteration.\n",
      "w: [[1.0003179]]\n",
      "b: [0.00918953]\n",
      "After 9700 iteration.\n",
      "w: [[0.9998762]]\n",
      "b: [0.01021242]\n",
      "After 9800 iteration.\n",
      "w: [[1.0006348]]\n",
      "b: [0.00977545]\n",
      "After 9900 iteration.\n",
      "w: [[0.99650264]]\n",
      "b: [0.00827869]\n"
     ]
    }
   ],
   "source": [
    "trained_w,trained_b = trainWithMultiplePointsPerEpoch(10000,train,100)"
   ]
  },
  {
   "cell_type": "code",
   "execution_count": 97,
   "metadata": {},
   "outputs": [
    {
     "name": "stdout",
     "output_type": "stream",
     "text": [
      "(126, 1)\n",
      "(126, 1)\n"
     ]
    }
   ],
   "source": [
    "xData = xData.reshape(-1,1)\n",
    "yData = yData.reshape(-1,1)\n",
    "print(xData.shape)\n",
    "print(yData.shape)"
   ]
  },
  {
   "cell_type": "code",
   "execution_count": 98,
   "metadata": {},
   "outputs": [
    {
     "data": {
      "text/plain": [
       "array([0.00820208], dtype=float32)"
      ]
     },
     "execution_count": 98,
     "metadata": {},
     "output_type": "execute_result"
    }
   ],
   "source": [
    "trained_b"
   ]
  },
  {
   "cell_type": "code",
   "execution_count": 99,
   "metadata": {},
   "outputs": [
    {
     "data": {
      "text/plain": [
       "array([[0.9954653]], dtype=float32)"
      ]
     },
     "execution_count": 99,
     "metadata": {},
     "output_type": "execute_result"
    }
   ],
   "source": [
    "trained_w"
   ]
  },
  {
   "cell_type": "code",
   "execution_count": 100,
   "metadata": {},
   "outputs": [],
   "source": [
    "a = trained_w*xData + trained_b"
   ]
  },
  {
   "cell_type": "code",
   "execution_count": 114,
   "metadata": {},
   "outputs": [],
   "source": [
    "colors = [tuple(np.abs(255 * np.random.randn(3))%255) for i in range(5)]"
   ]
  },
  {
   "cell_type": "code",
   "execution_count": 117,
   "metadata": {},
   "outputs": [],
   "source": [
    "colors = list(colors)"
   ]
  },
  {
   "cell_type": "code",
   "execution_count": 120,
   "metadata": {},
   "outputs": [
    {
     "data": {
      "image/png": "[encoded data removed]",
      "text/plain": [
       "<matplotlib.figure.Figure at 0x1f037b64080>"
      ]
     },
     "metadata": {},
     "output_type": "display_data"
    }
   ],
   "source": [
    "plt.plot(xData,a,c='r')\n",
    "plt.scatter(xData,yData,c='b')\n",
    "plt.show()"
   ]
  },
  {
   "cell_type": "markdown",
   "metadata": {},
   "source": [
    "### Better Explanation of Data"
   ]
  },
  {
   "cell_type": "code",
   "execution_count": 4,
   "metadata": {},
   "outputs": [],
   "source": [
    "googFile = 'data/GOOG.csv'\n",
    "spFile = 'data/SP_500.csv'"
   ]
  },
  {
   "cell_type": "code",
   "execution_count": 7,
   "metadata": {},
   "outputs": [],
   "source": [
    "df1 = pd.read_csv(googFile,sep=',',usecols=[0,5],names=['Date','Goog'],header=0)"
   ]
  },
  {
   "cell_type": "code",
   "execution_count": 14,
   "metadata": {},
   "outputs": [
    {
     "data": {
      "image/png": "[encoded data removed]",
      "text/plain": [
       "<matplotlib.figure.Figure at 0x25b37837dd8>"
      ]
     },
     "metadata": {},
     "output_type": "display_data"
    }
   ],
   "source": [
    "df1.plot(x='Date',y='Goog')\n",
    "plt.show()"
   ]
  },
  {
   "cell_type": "code",
   "execution_count": 15,
   "metadata": {},
   "outputs": [],
   "source": [
    "df2 = pd.read_csv(spFile,sep=',',usecols=[0,5],names=['Date','SP500'],header=0)"
   ]
  },
  {
   "cell_type": "code",
   "execution_count": 16,
   "metadata": {},
   "outputs": [
    {
     "data": {
      "text/html": [
       "<div>\n",
       "<style scoped>\n",
       "    .dataframe tbody tr th:only-of-type {\n",
       "        vertical-align: middle;\n",
       "    }\n",
       "\n",
       "    .dataframe tbody tr th {\n",
       "        vertical-align: top;\n",
       "    }\n",
       "\n",
       "    .dataframe thead th {\n",
       "        text-align: right;\n",
       "    }\n",
       "</style>\n",
       "<table border=\"1\" class=\"dataframe\">\n",
       "  <thead>\n",
       "    <tr style=\"text-align: right;\">\n",
       "      <th></th>\n",
       "      <th>Date</th>\n",
       "      <th>SP500</th>\n",
       "    </tr>\n",
       "  </thead>\n",
       "  <tbody>\n",
       "    <tr>\n",
       "      <th>0</th>\n",
       "      <td>2007-01-01</td>\n",
       "      <td>1438.239990</td>\n",
       "    </tr>\n",
       "    <tr>\n",
       "      <th>1</th>\n",
       "      <td>2007-02-01</td>\n",
       "      <td>1406.819946</td>\n",
       "    </tr>\n",
       "    <tr>\n",
       "      <th>2</th>\n",
       "      <td>2007-03-01</td>\n",
       "      <td>1420.859985</td>\n",
       "    </tr>\n",
       "    <tr>\n",
       "      <th>3</th>\n",
       "      <td>2007-04-01</td>\n",
       "      <td>1482.369995</td>\n",
       "    </tr>\n",
       "    <tr>\n",
       "      <th>4</th>\n",
       "      <td>2007-05-01</td>\n",
       "      <td>1530.619995</td>\n",
       "    </tr>\n",
       "  </tbody>\n",
       "</table>\n",
       "</div>"
      ],
      "text/plain": [
       "         Date        SP500\n",
       "0  2007-01-01  1438.239990\n",
       "1  2007-02-01  1406.819946\n",
       "2  2007-03-01  1420.859985\n",
       "3  2007-04-01  1482.369995\n",
       "4  2007-05-01  1530.619995"
      ]
     },
     "execution_count": 16,
     "metadata": {},
     "output_type": "execute_result"
    }
   ],
   "source": [
    "df2.head()"
   ]
  },
  {
   "cell_type": "code",
   "execution_count": 17,
   "metadata": {},
   "outputs": [
    {
     "data": {
      "text/plain": [
       "<matplotlib.axes._subplots.AxesSubplot at 0x25b37a95278>"
      ]
     },
     "execution_count": 17,
     "metadata": {},
     "output_type": "execute_result"
    },
    {
     "data": {
      "image/png": "[encoded data removed]",
      "text/plain": [
       "<matplotlib.figure.Figure at 0x25b38aabef0>"
      ]
     },
     "metadata": {},
     "output_type": "display_data"
    }
   ],
   "source": [
    "df2.plot(x='Date',y='SP500')"
   ]
  },
  {
   "cell_type": "code",
   "execution_count": 18,
   "metadata": {},
   "outputs": [],
   "source": [
    "df1['SP500'] = df2['SP500']"
   ]
  },
  {
   "cell_type": "code",
   "execution_count": 19,
   "metadata": {},
   "outputs": [
    {
     "data": {
      "text/plain": [
       "Index(['Date', 'Goog', 'SP500'], dtype='object')"
      ]
     },
     "execution_count": 19,
     "metadata": {},
     "output_type": "execute_result"
    }
   ],
   "source": [
    "df1.keys()"
   ]
  },
  {
   "cell_type": "code",
   "execution_count": 22,
   "metadata": {},
   "outputs": [
    {
     "data": {
      "text/plain": [
       "array([<matplotlib.axes._subplots.AxesSubplot object at 0x0000025B38C3C5C0>],\n",
       "      dtype=object)"
      ]
     },
     "execution_count": 22,
     "metadata": {},
     "output_type": "execute_result"
    },
    {
     "data": {
      "image/png": "[encoded data removed]",
      "text/plain": [
       "<matplotlib.figure.Figure at 0x25b38b9cf28>"
      ]
     },
     "metadata": {},
     "output_type": "display_data"
    },
    {
     "data": {
      "image/png": "[encoded data removed]",
      "text/plain": [
       "<matplotlib.figure.Figure at 0x25b38b9cf60>"
      ]
     },
     "metadata": {},
     "output_type": "display_data"
    }
   ],
   "source": [
    "df1.plot(x='Date',y='Goog',subplots=True)\n",
    "df1.plot(x='Date',y='SP500',subplots=True)"
   ]
  },
  {
   "cell_type": "code",
   "execution_count": 23,
   "metadata": {},
   "outputs": [
    {
     "data": {
      "text/html": [
       "<div>\n",
       "<style scoped>\n",
       "    .dataframe tbody tr th:only-of-type {\n",
       "        vertical-align: middle;\n",
       "    }\n",
       "\n",
       "    .dataframe tbody tr th {\n",
       "        vertical-align: top;\n",
       "    }\n",
       "\n",
       "    .dataframe thead th {\n",
       "        text-align: right;\n",
       "    }\n",
       "</style>\n",
       "<table border=\"1\" class=\"dataframe\">\n",
       "  <thead>\n",
       "    <tr style=\"text-align: right;\">\n",
       "      <th></th>\n",
       "      <th>Date</th>\n",
       "      <th>Goog</th>\n",
       "      <th>SP500</th>\n",
       "    </tr>\n",
       "  </thead>\n",
       "  <tbody>\n",
       "    <tr>\n",
       "      <th>0</th>\n",
       "      <td>2007-01-01</td>\n",
       "      <td>249.813644</td>\n",
       "      <td>1438.239990</td>\n",
       "    </tr>\n",
       "    <tr>\n",
       "      <th>1</th>\n",
       "      <td>2007-02-01</td>\n",
       "      <td>223.885818</td>\n",
       "      <td>1406.819946</td>\n",
       "    </tr>\n",
       "    <tr>\n",
       "      <th>2</th>\n",
       "      <td>2007-03-01</td>\n",
       "      <td>228.224564</td>\n",
       "      <td>1420.859985</td>\n",
       "    </tr>\n",
       "    <tr>\n",
       "      <th>3</th>\n",
       "      <td>2007-04-01</td>\n",
       "      <td>234.809875</td>\n",
       "      <td>1482.369995</td>\n",
       "    </tr>\n",
       "    <tr>\n",
       "      <th>4</th>\n",
       "      <td>2007-05-01</td>\n",
       "      <td>248.025345</td>\n",
       "      <td>1530.619995</td>\n",
       "    </tr>\n",
       "  </tbody>\n",
       "</table>\n",
       "</div>"
      ],
      "text/plain": [
       "         Date        Goog        SP500\n",
       "0  2007-01-01  249.813644  1438.239990\n",
       "1  2007-02-01  223.885818  1406.819946\n",
       "2  2007-03-01  228.224564  1420.859985\n",
       "3  2007-04-01  234.809875  1482.369995\n",
       "4  2007-05-01  248.025345  1530.619995"
      ]
     },
     "execution_count": 23,
     "metadata": {},
     "output_type": "execute_result"
    }
   ],
   "source": [
    "df1.head()"
   ]
  },
  {
   "cell_type": "code",
   "execution_count": 25,
   "metadata": {},
   "outputs": [],
   "source": [
    "df1['Date'] = pd.to_datetime(df1['Date'],format='%Y-%m-%d')"
   ]
  },
  {
   "cell_type": "code",
   "execution_count": 26,
   "metadata": {},
   "outputs": [
    {
     "data": {
      "text/html": [
       "<div>\n",
       "<style scoped>\n",
       "    .dataframe tbody tr th:only-of-type {\n",
       "        vertical-align: middle;\n",
       "    }\n",
       "\n",
       "    .dataframe tbody tr th {\n",
       "        vertical-align: top;\n",
       "    }\n",
       "\n",
       "    .dataframe thead th {\n",
       "        text-align: right;\n",
       "    }\n",
       "</style>\n",
       "<table border=\"1\" class=\"dataframe\">\n",
       "  <thead>\n",
       "    <tr style=\"text-align: right;\">\n",
       "      <th></th>\n",
       "      <th>Date</th>\n",
       "      <th>Goog</th>\n",
       "      <th>SP500</th>\n",
       "    </tr>\n",
       "  </thead>\n",
       "  <tbody>\n",
       "    <tr>\n",
       "      <th>0</th>\n",
       "      <td>2007-01-01</td>\n",
       "      <td>249.813644</td>\n",
       "      <td>1438.239990</td>\n",
       "    </tr>\n",
       "    <tr>\n",
       "      <th>1</th>\n",
       "      <td>2007-02-01</td>\n",
       "      <td>223.885818</td>\n",
       "      <td>1406.819946</td>\n",
       "    </tr>\n",
       "    <tr>\n",
       "      <th>2</th>\n",
       "      <td>2007-03-01</td>\n",
       "      <td>228.224564</td>\n",
       "      <td>1420.859985</td>\n",
       "    </tr>\n",
       "    <tr>\n",
       "      <th>3</th>\n",
       "      <td>2007-04-01</td>\n",
       "      <td>234.809875</td>\n",
       "      <td>1482.369995</td>\n",
       "    </tr>\n",
       "    <tr>\n",
       "      <th>4</th>\n",
       "      <td>2007-05-01</td>\n",
       "      <td>248.025345</td>\n",
       "      <td>1530.619995</td>\n",
       "    </tr>\n",
       "  </tbody>\n",
       "</table>\n",
       "</div>"
      ],
      "text/plain": [
       "        Date        Goog        SP500\n",
       "0 2007-01-01  249.813644  1438.239990\n",
       "1 2007-02-01  223.885818  1406.819946\n",
       "2 2007-03-01  228.224564  1420.859985\n",
       "3 2007-04-01  234.809875  1482.369995\n",
       "4 2007-05-01  248.025345  1530.619995"
      ]
     },
     "execution_count": 26,
     "metadata": {},
     "output_type": "execute_result"
    }
   ],
   "source": [
    "df1.head()"
   ]
  },
  {
   "cell_type": "code",
   "execution_count": 28,
   "metadata": {},
   "outputs": [],
   "source": [
    "df1 = df1.sort_values('Date')"
   ]
  },
  {
   "cell_type": "code",
   "execution_count": 35,
   "metadata": {},
   "outputs": [],
   "source": [
    "returns = df1[[key for key in dict(df1.dtypes) if dict(df1.dtypes)[key] in ['float64','int64']]].pct_change()"
   ]
  },
  {
   "cell_type": "code",
   "execution_count": 37,
   "metadata": {},
   "outputs": [],
   "source": [
    "xData = np.array(df1['SP500'][1:])"
   ]
  },
  {
   "cell_type": "code",
   "execution_count": 39,
   "metadata": {},
   "outputs": [],
   "source": [
    "yData = np.array(df1['Goog'][1:])"
   ]
  }
 ],
 "metadata": {
  "kernelspec": {
   "display_name": "Python 3",
   "language": "python",
   "name": "python3"
  },
  "language_info": {
   "codemirror_mode": {
    "name": "ipython",
    "version": 3
   },
   "file_extension": ".py",
   "mimetype": "text/x-python",
   "name": "python",
   "nbconvert_exporter": "python",
   "pygments_lexer": "ipython3",
   "version": "3.5.2"
  },
  "widgets": {
   "state": {},
   "version": "1.1.2"
  }
 },
 "nbformat": 4,
 "nbformat_minor": 2
}
