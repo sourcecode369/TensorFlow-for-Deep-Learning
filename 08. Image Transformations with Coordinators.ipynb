{
 "cells": [
  {
   "cell_type": "code",
   "execution_count": 1,
   "metadata": {},
   "outputs": [],
   "source": [
    "import tensorflow as tf"
   ]
  },
  {
   "cell_type": "code",
   "execution_count": 8,
   "metadata": {},
   "outputs": [],
   "source": [
    "original_file_list = [\"./images/Tensorflow.jpg\",\"./images/neural network.jpg\"]"
   ]
  },
  {
   "cell_type": "code",
   "execution_count": 9,
   "metadata": {},
   "outputs": [],
   "source": [
    "filename_queue = tf.train.string_input_producer(original_file_list)"
   ]
  },
  {
   "cell_type": "code",
   "execution_count": 10,
   "metadata": {},
   "outputs": [],
   "source": [
    "image_reader = tf.WholeFileReader()"
   ]
  },
  {
   "cell_type": "code",
   "execution_count": 18,
   "metadata": {},
   "outputs": [
    {
     "name": "stdout",
     "output_type": "stream",
     "text": [
      "(112, 112, 3)\n",
      "Tensor(\"stack_13:0\", shape=(112, 112, 3), dtype=float32)\n",
      "(112, 112, 3)\n",
      "Tensor(\"stack_14:0\", shape=(112, 112, 3), dtype=float32)\n"
     ]
    }
   ],
   "source": [
    "with tf.Session() as sess:\n",
    "    coord = tf.train.Coordinator()\n",
    "    threads = tf.train.start_queue_runners(sess=sess,coord=coord)\n",
    "    image_list = []\n",
    "    \n",
    "    for i in range(len(original_file_list)):\n",
    "        _, image_file = image_reader.read(filename_queue)\n",
    "        image = tf.image.decode_jpeg(image_file)\n",
    "        \n",
    "        image = tf.image.resize_images(image,[224,224])\n",
    "        image.set_shape((224,224,3))\n",
    "        \n",
    "        image = tf.image.flip_up_down(image)\n",
    "        \n",
    "        image = tf.image.central_crop(image,central_fraction=0.5)\n",
    "        \n",
    "        image_array = sess.run(image)\n",
    "        \n",
    "        print(image_array.shape)\n",
    "        \n",
    "        image_tensor = tf.stack(image_array)\n",
    "        print(image_tensor)\n",
    "        \n",
    "        image_list.append(image_tensor)\n",
    "    \n",
    "    coord.request_stop()\n",
    "    coord.join(threads)\n",
    "    image_tensor = tf.stack(image_list)\n",
    "    \n",
    "    index = 0\n",
    "    \n",
    "    summary_writer = tf.summary.FileWriter(\"./ImageTransformationwithCoordinator\",sess.graph)\n",
    "    summary_str = sess.run(tf.summary.image(\"images\",image_tensor))\n",
    "    summary_writer.add_summary(summary_str)\n",
    "    \n",
    "    summary_writer.close()"
   ]
  },
  {
   "cell_type": "code",
   "execution_count": 19,
   "metadata": {},
   "outputs": [
    {
     "data": {
      "text/plain": [
       "<tf.Tensor 'stack_15:0' shape=(2, 112, 112, 3) dtype=float32>"
      ]
     },
     "execution_count": 19,
     "metadata": {},
     "output_type": "execute_result"
    }
   ],
   "source": [
    "image_tensor"
   ]
  },
  {
   "cell_type": "code",
   "execution_count": 20,
   "metadata": {},
   "outputs": [],
   "source": [
    "sess = tf.Session()"
   ]
  },
  {
   "cell_type": "code",
   "execution_count": 21,
   "metadata": {},
   "outputs": [],
   "source": [
    "image = sess.run(image_tensor)"
   ]
  },
  {
   "cell_type": "code",
   "execution_count": 22,
   "metadata": {},
   "outputs": [
    {
     "data": {
      "text/plain": [
       "(2, 112, 112, 3)"
      ]
     },
     "execution_count": 22,
     "metadata": {},
     "output_type": "execute_result"
    }
   ],
   "source": [
    "image.shape"
   ]
  }
 ],
 "metadata": {
  "kernelspec": {
   "display_name": "Python 3",
   "language": "python",
   "name": "python3"
  },
  "language_info": {
   "codemirror_mode": {
    "name": "ipython",
    "version": 3
   },
   "file_extension": ".py",
   "mimetype": "text/x-python",
   "name": "python",
   "nbconvert_exporter": "python",
   "pygments_lexer": "ipython3",
   "version": "3.5.2"
  },
  "widgets": {
   "state": {},
   "version": "1.1.2"
  }
 },
 "nbformat": 4,
 "nbformat_minor": 2
}
