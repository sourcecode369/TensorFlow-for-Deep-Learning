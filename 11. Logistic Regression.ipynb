{
 "cells": [
  {
   "cell_type": "code",
   "execution_count": 2,
   "metadata": {},
   "outputs": [],
   "source": [
    "import tensorflow as tf\n",
    "import pandas as pd\n",
    "import numpy as np"
   ]
  },
  {
   "cell_type": "markdown",
   "metadata": {},
   "source": [
    "### Data Preprocessing"
   ]
  },
  {
   "cell_type": "code",
   "execution_count": 1,
   "metadata": {},
   "outputs": [],
   "source": [
    "def read_goog_sp500_dataframe():\n",
    "    googFile = 'data/GOOG.csv'\n",
    "    spFile = 'data/SP_500.csv'\n",
    "    \n",
    "    goog = pd.read_csv(googFile,sep=',',usecols=[0,5],names=['Date','Goog'],header=0)\n",
    "    sp = pd.read_csv(spFile,sep=',',usecols=[0,5],names=['Date','SP500'],header=0)\n",
    "    \n",
    "    goog['SP500'] = sp['SP500']\n",
    "    \n",
    "    goog['Date'] = pd.to_datetime(goog['Date'],format='%Y-%m-%d')\n",
    "    \n",
    "    goog = goog.sort_values(['Date'],ascending=True)\n",
    "    \n",
    "    returns = goog[[key for key in dict(goog.dtypes) if dict(goog.dtypes)[key] in ['float64','int64']]].pct_change()\n",
    "    \n",
    "    return returns"
   ]
  },
  {
   "cell_type": "code",
   "execution_count": 3,
   "metadata": {},
   "outputs": [],
   "source": [
    "def read_goog_sp500_logistic_data():\n",
    "    returns = read_goog_sp500_dataframe()\n",
    "    returns['Intercept'] =1\n",
    "    xData = np.array(returns[[\"SP500\",  \"Intercept\"]][1:-1])\n",
    "    yData = (returns[\"Goog\"]>0)[1:-1]\n",
    "    return (xData, yData)"
   ]
  },
  {
   "cell_type": "code",
   "execution_count": 7,
   "metadata": {},
   "outputs": [],
   "source": [
    "xData, yData = read_goog_sp500_logistic_data()"
   ]
  },
  {
   "cell_type": "markdown",
   "metadata": {},
   "source": [
    "### Baseline Implementation"
   ]
  },
  {
   "cell_type": "code",
   "execution_count": 157,
   "metadata": {},
   "outputs": [],
   "source": [
    "from sklearn.linear_model import LogisticRegression"
   ]
  },
  {
   "cell_type": "code",
   "execution_count": 185,
   "metadata": {},
   "outputs": [],
   "source": [
    "classifier = LogisticRegression(C=1e5,solver='liblinear')"
   ]
  },
  {
   "cell_type": "code",
   "execution_count": 186,
   "metadata": {},
   "outputs": [
    {
     "data": {
      "text/plain": [
       "LogisticRegression(C=100000.0, class_weight=None, dual=False,\n",
       "          fit_intercept=True, intercept_scaling=1, max_iter=100,\n",
       "          multi_class='ovr', n_jobs=1, penalty='l2', random_state=None,\n",
       "          solver='liblinear', tol=0.0001, verbose=0, warm_start=False)"
      ]
     },
     "execution_count": 186,
     "metadata": {},
     "output_type": "execute_result"
    }
   ],
   "source": [
    "classifier.fit(xData[:,0].reshape(-1,1),yData)"
   ]
  },
  {
   "cell_type": "code",
   "execution_count": 187,
   "metadata": {},
   "outputs": [],
   "source": [
    "prediction = classifier.predict(xData[:,0].reshape(-1,1))"
   ]
  },
  {
   "cell_type": "code",
   "execution_count": 188,
   "metadata": {},
   "outputs": [],
   "source": [
    "acc_predictions = (list(yData==prediction)).count(True)"
   ]
  },
  {
   "cell_type": "code",
   "execution_count": 189,
   "metadata": {},
   "outputs": [],
   "source": [
    "acc = acc_predictions/len(prediction)"
   ]
  },
  {
   "cell_type": "code",
   "execution_count": 190,
   "metadata": {},
   "outputs": [
    {
     "data": {
      "text/plain": [
       "72.8"
      ]
     },
     "execution_count": 190,
     "metadata": {},
     "output_type": "execute_result"
    }
   ],
   "source": [
    "acc*100"
   ]
  },
  {
   "cell_type": "markdown",
   "metadata": {},
   "source": [
    "### TensorFlow Implementation"
   ]
  },
  {
   "cell_type": "code",
   "execution_count": 263,
   "metadata": {},
   "outputs": [],
   "source": [
    "W = tf.Variable(tf.ones([1, 2]), name=\"W\")\n",
    "b = tf.Variable(tf.zeros([2]), name=\"b\")"
   ]
  },
  {
   "cell_type": "code",
   "execution_count": 264,
   "metadata": {},
   "outputs": [],
   "source": [
    "x = tf.placeholder(tf.float32, [None, 1], name=\"x\")"
   ]
  },
  {
   "cell_type": "code",
   "execution_count": 265,
   "metadata": {},
   "outputs": [],
   "source": [
    "y_ = tf.placeholder(tf.float32, [None, 2], name=\"y_\")\n",
    "\n",
    "y = tf.matmul(x, W) + b"
   ]
  },
  {
   "cell_type": "code",
   "execution_count": 266,
   "metadata": {},
   "outputs": [],
   "source": [
    "cross_entropy = tf.reduce_mean(tf.nn.softmax_cross_entropy_with_logits(labels=y_, logits=y))"
   ]
  },
  {
   "cell_type": "code",
   "execution_count": 267,
   "metadata": {},
   "outputs": [],
   "source": [
    "train_step = tf.train.GradientDescentOptimizer(0.5).minimize(cross_entropy)"
   ]
  },
  {
   "cell_type": "code",
   "execution_count": 268,
   "metadata": {},
   "outputs": [],
   "source": [
    "all_xs = np.expand_dims(xData[:,0], axis=1)"
   ]
  },
  {
   "cell_type": "code",
   "execution_count": 269,
   "metadata": {},
   "outputs": [],
   "source": [
    "all_ys = np.array([([1,0] if yEl == True else [0,1]) for yEl in yData])"
   ]
  },
  {
   "cell_type": "code",
   "execution_count": 270,
   "metadata": {},
   "outputs": [],
   "source": [
    "dataset_size = len(all_xs)"
   ]
  },
  {
   "cell_type": "code",
   "execution_count": 283,
   "metadata": {},
   "outputs": [],
   "source": [
    "def trainWithMultiplePointsPerEpoch(steps, train_step, batch_size):\n",
    "  init = tf.global_variables_initializer()\n",
    "\n",
    "  with tf.Session() as sess:\n",
    "    sess.run(init)\n",
    "\n",
    "    for i in range(steps):\n",
    "      if dataset_size == batch_size:\n",
    "        batch_start_idx = 0\n",
    "      elif dataset_size < batch_size:\n",
    "        raise ValueError(\"dataset_size: %d, must be greater than batch_size: %d\" % (dataset_size, batch_size))\n",
    "      else:\n",
    "        batch_start_idx = (i * batch_size) % (dataset_size)\n",
    "\n",
    "      batch_end_idx = batch_start_idx + batch_size\n",
    "\n",
    "      batch_xs = all_xs[batch_start_idx : batch_end_idx]\n",
    "      batch_ys = all_ys[batch_start_idx : batch_end_idx]\n",
    "\n",
    "      feed = { x: batch_xs, y_: batch_ys }\n",
    "\n",
    "      sess.run(train_step, feed_dict=feed)\n",
    "\n",
    "      if (i + 1) % 1000 == 0:\n",
    "        print(\"After %d iteration:\" % i)\n",
    "        print(sess.run(W))\n",
    "        print(sess.run(b))\n",
    "\n",
    "        print(\"cross entropy: %f\" % sess.run(cross_entropy, feed_dict=feed))\n",
    "\n",
    "    # Test model\n",
    "    correct_prediction = tf.equal(tf.argmax(y_, 1), tf.argmax(y, 1))\n",
    "    print(\"y = {}\".format(sess.run(y,feed)))\n",
    "\n",
    "    # Calculate accuracy\n",
    "    accuracy = tf.reduce_mean(tf.cast(correct_prediction, tf.float32))\n",
    "\n",
    "    print(\"Accuracy: %f\" % sess.run(accuracy, feed_dict={x: all_xs, y_: all_ys}))"
   ]
  },
  {
   "cell_type": "code",
   "execution_count": 284,
   "metadata": {},
   "outputs": [
    {
     "name": "stdout",
     "output_type": "stream",
     "text": [
      "After 999 iteration:\n",
      "[[ 5.196305  -3.1963046]]\n",
      "[ 0.13512917 -0.13512877]\n",
      "cross entropy: 0.609988\n",
      "After 1999 iteration:\n",
      "[[ 7.973796  -5.9737945]]\n",
      "[ 0.1246955  -0.12469481]\n",
      "cross entropy: 0.578771\n",
      "After 2999 iteration:\n",
      "[[ 9.935836  -7.9358315]]\n",
      "[ 0.11727998 -0.11727909]\n",
      "cross entropy: 0.563244\n",
      "After 3999 iteration:\n",
      "[[11.390679 -9.390675]]\n",
      "[ 0.1116586  -0.11165741]\n",
      "cross entropy: 0.554724\n",
      "After 4999 iteration:\n",
      "[[ 12.505717  -10.5057125]]\n",
      "[ 0.10726263 -0.10726164]\n",
      "cross entropy: 0.549724\n",
      "After 5999 iteration:\n",
      "[[ 13.380331 -11.380326]]\n",
      "[ 0.10375845 -0.10375739]\n",
      "cross entropy: 0.546651\n",
      "After 6999 iteration:\n",
      "[[ 14.077989 -12.077984]]\n",
      "[ 0.10092742 -0.10092653]\n",
      "cross entropy: 0.544697\n",
      "After 7999 iteration:\n",
      "[[ 14.641535 -12.64153 ]]\n",
      "[ 0.09861766 -0.09861698]\n",
      "cross entropy: 0.543422\n",
      "After 8999 iteration:\n",
      "[[ 15.101157 -13.101152]]\n",
      "[ 0.09671898 -0.09671844]\n",
      "cross entropy: 0.542574\n",
      "After 9999 iteration:\n",
      "[[ 15.478832 -13.478827]]\n",
      "[ 0.09514897 -0.09514863]\n",
      "cross entropy: 0.542002\n",
      "After 10999 iteration:\n",
      "[[ 15.791024 -13.791019]]\n",
      "[ 0.09384484 -0.09384432]\n",
      "cross entropy: 0.541611\n",
      "After 11999 iteration:\n",
      "[[ 16.050318 -14.050316]]\n",
      "[ 0.09275717 -0.09275668]\n",
      "cross entropy: 0.541341\n",
      "After 12999 iteration:\n",
      "[[ 16.266523 -14.266517]]\n",
      "[ 0.09184728 -0.09184679]\n",
      "cross entropy: 0.541154\n",
      "After 13999 iteration:\n",
      "[[ 16.447346 -14.447347]]\n",
      "[ 0.0910843  -0.09108362]\n",
      "cross entropy: 0.541023\n",
      "After 14999 iteration:\n",
      "[[ 16.598978 -14.598987]]\n",
      "[ 0.09044305 -0.09044226]\n",
      "cross entropy: 0.540930\n",
      "After 15999 iteration:\n",
      "[[ 16.726406 -14.726417]]\n",
      "[ 0.0899031  -0.08990231]\n",
      "cross entropy: 0.540865\n",
      "After 16999 iteration:\n",
      "[[ 16.833696 -14.833688]]\n",
      "[ 0.08944789 -0.08944704]\n",
      "cross entropy: 0.540819\n",
      "After 17999 iteration:\n",
      "[[ 16.92415  -14.924132]]\n",
      "[ 0.08906347 -0.08906282]\n",
      "cross entropy: 0.540786\n",
      "After 18999 iteration:\n",
      "[[ 17.000471 -15.000488]]\n",
      "[ 0.08873884 -0.08873805]\n",
      "cross entropy: 0.540763\n",
      "After 19999 iteration:\n",
      "[[ 17.064974 -15.064994]]\n",
      "[ 0.08846418 -0.08846346]\n",
      "cross entropy: 0.540746\n",
      "y = [[-2.84340233e-01  2.40649045e-01]\n",
      " [ 2.58772314e-01 -2.38811836e-01]\n",
      " [ 8.27218711e-01 -7.40637422e-01]\n",
      " [ 6.43915951e-01 -5.78817368e-01]\n",
      " [-2.15570897e-01  1.79939330e-01]\n",
      " [-4.57305759e-01  3.93343329e-01]\n",
      " [ 3.07980686e-01 -2.82253087e-01]\n",
      " [ 6.99288011e-01 -6.27699971e-01]\n",
      " [ 3.41407001e-01 -3.11761916e-01]\n",
      " [-6.63135588e-01  5.75050354e-01]\n",
      " [-5.87810948e-02  4.15249765e-02]\n",
      " [-9.55288231e-01  8.32963228e-01]\n",
      " [-5.04734695e-01  4.35213715e-01]\n",
      " [-1.32366419e-02  1.31823868e-03]\n",
      " [ 8.99847388e-01 -8.04754138e-01]\n",
      " [ 2.70618796e-01 -2.49269933e-01]\n",
      " [-1.37848175e+00  1.20655942e+00]\n",
      " [-7.97857270e-02  6.00679070e-02]\n",
      " [ 2.96494156e-01 -2.72112727e-01]\n",
      " [-1.46088934e+00  1.27930892e+00]\n",
      " [-2.80276084e+00  2.46391582e+00]\n",
      " [-1.18883276e+00  1.03913689e+00]\n",
      " [ 2.21939176e-01 -2.06295460e-01]\n",
      " [-1.37327623e+00  1.20196390e+00]\n",
      " [-1.78750896e+00  1.56764948e+00]\n",
      " [ 1.54588902e+00 -1.37508118e+00]\n",
      " [ 1.69129324e+00 -1.50344419e+00]\n",
      " [ 9.94297683e-01 -8.88135076e-01]\n",
      " [ 9.18059498e-02 -9.14135799e-02]\n",
      " [ 1.35369074e+00 -1.20540810e+00]\n",
      " [ 6.61167979e-01 -5.94047546e-01]\n",
      " [ 6.98082209e-01 -6.26635432e-01]\n",
      " [-2.48773843e-01  2.09250957e-01]\n",
      " [ 1.06738043e+00 -9.52652693e-01]\n",
      " [ 3.91718507e-01 -3.56177002e-01]\n",
      " [-5.42500377e-01  4.68553334e-01]\n",
      " [ 5.75049520e-01 -5.18022001e-01]\n",
      " [ 1.09182358e+00 -9.74231243e-01]\n",
      " [ 3.40330034e-01 -3.10811162e-01]\n",
      " [-1.31045139e+00  1.14650214e+00]\n",
      " [-8.31038296e-01  7.23275185e-01]\n",
      " [ 1.26215637e+00 -1.12460136e+00]\n",
      " [-7.21254885e-01  6.26358151e-01]\n",
      " [ 1.58252144e+00 -1.40742028e+00]\n",
      " [ 7.17410803e-01 -6.43698812e-01]\n",
      " [ 4.93811257e-02 -5.39608561e-02]\n",
      " [ 1.20280766e+00 -1.07220817e+00]\n",
      " [ 4.74910289e-01 -4.29618895e-01]\n",
      " [ 6.33802116e-01 -5.69888949e-01]\n",
      " [ 7.05918074e-02 -7.26856887e-02]\n",
      " [ 5.74737132e-01 -5.17746210e-01]\n",
      " [-1.41929239e-01  1.14928320e-01]\n",
      " [-2.23098934e-01  1.86585099e-01]\n",
      " [-2.77996361e-01  2.35048652e-01]\n",
      " [-8.80674601e-01  7.67094254e-01]\n",
      " [-1.13615227e+00  9.92630482e-01]\n",
      " [ 1.92675495e+00 -1.71131027e+00]\n",
      " [ 2.13734061e-03 -1.22539401e-02]\n",
      " [ 2.34075576e-01 -2.17009500e-01]\n",
      " [ 8.32207978e-01 -7.45041966e-01]\n",
      " [ 7.81122327e-01 -6.99943423e-01]\n",
      " [ 6.23149335e-01 -5.60484588e-01]\n",
      " [-3.94796506e-02  2.44856253e-02]\n",
      " [-9.80668843e-01  8.55369329e-01]\n",
      " [ 7.63468981e-01 -6.84359074e-01]\n",
      " [ 3.03441435e-01 -2.78245836e-01]\n",
      " [ 4.25725549e-01 -3.86198491e-01]\n",
      " [ 5.02053499e-01 -4.53580976e-01]\n",
      " [-2.49241620e-01  2.09663898e-01]\n",
      " [ 1.37043327e-01 -1.31349236e-01]\n",
      " [ 2.09083349e-01 -1.94946304e-01]\n",
      " [ 9.49018359e-01 -8.48162413e-01]\n",
      " [ 2.77213871e-01 -2.55092084e-01]\n",
      " [ 7.02593744e-01 -6.30618334e-01]\n",
      " [ 3.97097349e-01 -3.60925436e-01]\n",
      " [ 4.42781031e-01 -4.01255101e-01]\n",
      " [-1.67498499e-01  1.37500927e-01]\n",
      " [ 9.32533324e-01 -8.33609343e-01]\n",
      " [-4.45635706e-01  3.83040994e-01]\n",
      " [ 5.96139073e-01 -5.36639810e-01]\n",
      " [ 8.49489510e-01 -7.60298133e-01]\n",
      " [ 5.67127645e-01 -5.11028528e-01]\n",
      " [ 4.90562588e-01 -4.43436742e-01]\n",
      " [-5.18757164e-01  4.47592825e-01]\n",
      " [ 8.24255228e-01 -7.38021255e-01]\n",
      " [ 2.06761390e-01 -1.92896485e-01]\n",
      " [ 1.94280475e-01 -1.81878299e-01]\n",
      " [ 4.47345376e-01 -4.05284494e-01]\n",
      " [ 4.13694113e-01 -3.75577122e-01]\n",
      " [-1.68872744e-01  1.38714105e-01]\n",
      " [ 7.31050789e-01 -6.55740261e-01]\n",
      " [-1.76279068e-01  1.45252407e-01]\n",
      " [ 4.84396487e-01 -4.37993318e-01]\n",
      " [ 5.07129252e-01 -4.58061814e-01]\n",
      " [ 1.69860348e-02 -2.53624022e-02]\n",
      " [-4.41246361e-01  3.79166096e-01]\n",
      " [ 1.02520347e+00 -9.15418744e-01]\n",
      " [-2.08399951e-01  1.73608780e-01]\n",
      " [ 2.33871758e-01 -2.16829553e-01]\n",
      " [ 2.67499357e-01 -2.46516064e-01]\n",
      " [-2.70099491e-01  2.28077263e-01]\n",
      " [ 4.25361365e-01 -3.85876983e-01]\n",
      " [-9.79475796e-01  8.54316115e-01]\n",
      " [-3.62782061e-01  3.09897631e-01]\n",
      " [ 1.50456893e+00 -1.33860362e+00]\n",
      " [ 9.70797613e-02 -9.60693061e-02]\n",
      " [-2.10687995e-01  1.75628692e-01]\n",
      " [-7.77332723e-01  6.75863862e-01]\n",
      " [ 1.80138126e-02 -2.62697265e-02]\n",
      " [ 1.21460068e+00 -1.08261919e+00]\n",
      " [ 1.34529337e-01 -1.29129872e-01]\n",
      " [ 3.49978089e-01 -3.19328487e-01]\n",
      " [ 1.04009025e-01 -1.02186479e-01]\n",
      " [ 6.96144521e-01 -6.24924898e-01]\n",
      " [ 6.76578283e-02 -7.00955689e-02]\n",
      " [ 6.73983097e-02 -6.98664635e-02]\n",
      " [-2.43034542e-01  2.04184294e-01]\n",
      " [ 6.71651483e-01 -6.03302360e-01]\n",
      " [ 3.99059713e-01 -3.62657845e-01]\n",
      " [ 3.93660277e-01 -3.57891202e-01]\n",
      " [ 7.23249853e-01 -6.48853540e-01]\n",
      " [ 8.18225369e-02 -8.26001987e-02]\n",
      " [ 2.43605405e-01 -2.25422457e-01]\n",
      " [ 2.86012590e-01 -2.62859613e-01]\n",
      " [ 2.12923169e-01 -1.98336124e-01]]\n",
      "Accuracy: 0.728000\n"
     ]
    }
   ],
   "source": [
    "trainWithMultiplePointsPerEpoch(20000, train_step, dataset_size)"
   ]
  }
 ],
 "metadata": {
  "kernelspec": {
   "display_name": "Python 3",
   "language": "python",
   "name": "python3"
  },
  "language_info": {
   "codemirror_mode": {
    "name": "ipython",
    "version": 3
   },
   "file_extension": ".py",
   "mimetype": "text/x-python",
   "name": "python",
   "nbconvert_exporter": "python",
   "pygments_lexer": "ipython3",
   "version": "3.5.2"
  },
  "widgets": {
   "state": {},
   "version": "1.1.2"
  }
 },
 "nbformat": 4,
 "nbformat_minor": 2
}
