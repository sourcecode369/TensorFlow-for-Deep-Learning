{
 "cells": [
  {
   "cell_type": "code",
   "execution_count": 1,
   "metadata": {},
   "outputs": [],
   "source": [
    "import tensorflow as tf\n",
    "import numpy as np\n",
    "import pandas as pd\n",
    "import matplotlib.pyplot as plt\n",
    "%matplotlib inline"
   ]
  },
  {
   "cell_type": "code",
   "execution_count": 2,
   "metadata": {},
   "outputs": [],
   "source": [
    "def read_goog_sp500_dataframe():\n",
    "    googFile = 'data/GOOG.csv'\n",
    "    spFile = 'data/SP_500.csv'\n",
    "    \n",
    "    goog = pd.read_csv(googFile,sep=',',usecols=[0,5],names=['Date','Goog'],header=0)\n",
    "    sp = pd.read_csv(spFile,sep=',',usecols=[0,5],names=['Date','SP500'],header=0)\n",
    "    \n",
    "    goog['SP500'] = sp['SP500']\n",
    "    \n",
    "    goog['Date'] = pd.to_datetime(goog['Date'],format='%Y-%m-%d')\n",
    "    \n",
    "    goog = goog.sort_values(['Date'],ascending=True)\n",
    "    \n",
    "    returns = goog[[key for key in dict(goog.dtypes) if dict(goog.dtypes)[key] in ['float64','int64']]].pct_change()\n",
    "    \n",
    "    return returns"
   ]
  },
  {
   "cell_type": "code",
   "execution_count": 3,
   "metadata": {},
   "outputs": [],
   "source": [
    "def read_goog_sp500_logistic_data():\n",
    "    returns = read_goog_sp500_dataframe()\n",
    "    returns['Intercept'] =1\n",
    "    xData = np.array(returns[[\"SP500\",  \"Intercept\"]][1:-1])\n",
    "    yData = (returns[\"Goog\"]>0)[1:-1]\n",
    "    return (xData, yData)"
   ]
  },
  {
   "cell_type": "code",
   "execution_count": 4,
   "metadata": {},
   "outputs": [],
   "source": [
    "xData, yData = read_goog_sp500_logistic_data()"
   ]
  },
  {
   "cell_type": "code",
   "execution_count": 5,
   "metadata": {},
   "outputs": [],
   "source": [
    "features = [tf.contrib.layers.real_valued_column(\"x\",dimension=1)]"
   ]
  },
  {
   "cell_type": "code",
   "execution_count": 16,
   "metadata": {},
   "outputs": [
    {
     "name": "stdout",
     "output_type": "stream",
     "text": [
      "WARNING:tensorflow:From C:\\Users\\Lolly\\Anaconda3\\envs\\carnd-term1\\lib\\site-packages\\tensorflow\\contrib\\learn\\python\\learn\\estimators\\linear.py:469: multi_class_head (from tensorflow.contrib.learn.python.learn.estimators.head) is deprecated and will be removed in a future version.\n",
      "Instructions for updating:\n",
      "Please switch to tf.contrib.estimator.*_head.\n",
      "WARNING:tensorflow:From C:\\Users\\Lolly\\Anaconda3\\envs\\carnd-term1\\lib\\site-packages\\tensorflow\\contrib\\learn\\python\\learn\\estimators\\estimator.py:1179: BaseEstimator.__init__ (from tensorflow.contrib.learn.python.learn.estimators.estimator) is deprecated and will be removed in a future version.\n",
      "Instructions for updating:\n",
      "Please replace uses of any Estimator from tf.contrib.learn with an Estimator from tf.estimator.*\n",
      "WARNING:tensorflow:From C:\\Users\\Lolly\\Anaconda3\\envs\\carnd-term1\\lib\\site-packages\\tensorflow\\contrib\\learn\\python\\learn\\estimators\\estimator.py:427: RunConfig.__init__ (from tensorflow.contrib.learn.python.learn.estimators.run_config) is deprecated and will be removed in a future version.\n",
      "Instructions for updating:\n",
      "When switching to tf.estimator.Estimator, use tf.estimator.RunConfig instead.\n",
      "INFO:tensorflow:Using default config.\n",
      "WARNING:tensorflow:Using temporary folder as model directory: C:\\Users\\Lolly\\AppData\\Local\\Temp\\tmpgm3m85i5\n",
      "INFO:tensorflow:Using config: {'_save_checkpoints_steps': None, '_save_summary_steps': 100, '_train_distribute': None, '_tf_config': gpu_options {\n",
      "  per_process_gpu_memory_fraction: 1.0\n",
      "}\n",
      ", '_master': '', '_keep_checkpoint_every_n_hours': 10000, '_cluster_spec': <tensorflow.python.training.server_lib.ClusterSpec object at 0x000001C124BFAF28>, '_device_fn': None, '_save_checkpoints_secs': 600, '_environment': 'local', '_model_dir': 'C:\\\\Users\\\\Lolly\\\\AppData\\\\Local\\\\Temp\\\\tmpgm3m85i5', '_task_id': 0, '_session_config': None, '_num_worker_replicas': 0, '_evaluation_master': '', '_keep_checkpoint_max': 5, '_is_chief': True, '_log_step_count_steps': 100, '_tf_random_seed': None, '_task_type': None, '_num_ps_replicas': 0}\n"
     ]
    }
   ],
   "source": [
    "estimator = tf.contrib.learn.LinearClassifier(feature_columns=features)"
   ]
  },
  {
   "cell_type": "code",
   "execution_count": 17,
   "metadata": {},
   "outputs": [],
   "source": [
    "x = np.expand_dims(xData[:,0],axis=1)\n",
    "y = np.expand_dims(np.array(yData),axis=1)"
   ]
  },
  {
   "cell_type": "code",
   "execution_count": 18,
   "metadata": {},
   "outputs": [],
   "source": [
    "input_fn = tf.contrib.learn.io.numpy_input_fn({\"x\":x},y,batch_size=100,num_epochs=10000)"
   ]
  },
  {
   "cell_type": "code",
   "execution_count": 20,
   "metadata": {},
   "outputs": [
    {
     "name": "stdout",
     "output_type": "stream",
     "text": [
      "WARNING:tensorflow:Trapezoidal rule is known to produce incorrect PR-AUCs; please switch to \"careful_interpolation\" instead.\n",
      "WARNING:tensorflow:Trapezoidal rule is known to produce incorrect PR-AUCs; please switch to \"careful_interpolation\" instead.\n",
      "WARNING:tensorflow:From C:\\Users\\Lolly\\Anaconda3\\envs\\carnd-term1\\lib\\site-packages\\tensorflow\\contrib\\learn\\python\\learn\\estimators\\head.py:678: ModelFnOps.__new__ (from tensorflow.contrib.learn.python.learn.estimators.model_fn) is deprecated and will be removed in a future version.\n",
      "Instructions for updating:\n",
      "When switching to tf.estimator.Estimator, use tf.estimator.EstimatorSpec. You can use the `estimator_spec` method to create an equivalent one.\n",
      "INFO:tensorflow:Create CheckpointSaverHook.\n",
      "INFO:tensorflow:Graph was finalized.\n",
      "INFO:tensorflow:Running local_init_op.\n",
      "INFO:tensorflow:Done running local_init_op.\n",
      "INFO:tensorflow:Saving checkpoints for 0 into C:\\Users\\Lolly\\AppData\\Local\\Temp\\tmpgm3m85i5\\model.ckpt.\n",
      "INFO:tensorflow:loss = 0.6931472, step = 1\n",
      "INFO:tensorflow:global_step/sec: 377.57\n",
      "INFO:tensorflow:loss = 0.6890389, step = 101 (0.270 sec)\n",
      "INFO:tensorflow:global_step/sec: 238.212\n",
      "INFO:tensorflow:loss = 0.67718726, step = 201 (0.415 sec)\n",
      "INFO:tensorflow:global_step/sec: 513.14\n",
      "INFO:tensorflow:loss = 0.66086066, step = 301 (0.195 sec)\n",
      "INFO:tensorflow:global_step/sec: 645.507\n",
      "INFO:tensorflow:loss = 0.67423517, step = 401 (0.160 sec)\n",
      "INFO:tensorflow:global_step/sec: 513.097\n",
      "INFO:tensorflow:loss = 0.6753382, step = 501 (0.190 sec)\n",
      "INFO:tensorflow:global_step/sec: 645.505\n",
      "INFO:tensorflow:loss = 0.63385546, step = 601 (0.155 sec)\n",
      "INFO:tensorflow:global_step/sec: 513.085\n",
      "INFO:tensorflow:loss = 0.6529268, step = 701 (0.195 sec)\n",
      "INFO:tensorflow:global_step/sec: 307.182\n",
      "INFO:tensorflow:loss = 0.649332, step = 801 (0.326 sec)\n",
      "INFO:tensorflow:global_step/sec: 513.096\n",
      "INFO:tensorflow:loss = 0.64533824, step = 901 (0.195 sec)\n",
      "INFO:tensorflow:global_step/sec: 625.332\n",
      "INFO:tensorflow:loss = 0.63160837, step = 1001 (0.160 sec)\n",
      "INFO:tensorflow:global_step/sec: 555.854\n",
      "INFO:tensorflow:loss = 0.63733786, step = 1101 (0.180 sec)\n",
      "INFO:tensorflow:global_step/sec: 500.266\n",
      "INFO:tensorflow:loss = 0.6639127, step = 1201 (0.200 sec)\n",
      "INFO:tensorflow:global_step/sec: 400.211\n",
      "INFO:tensorflow:loss = 0.638021, step = 1301 (0.255 sec)\n",
      "INFO:tensorflow:global_step/sec: 435.015\n",
      "INFO:tensorflow:loss = 0.61891794, step = 1401 (0.225 sec)\n",
      "INFO:tensorflow:global_step/sec: 606.39\n",
      "INFO:tensorflow:loss = 0.6134853, step = 1501 (0.170 sec)\n",
      "INFO:tensorflow:global_step/sec: 526.596\n",
      "INFO:tensorflow:loss = 0.640019, step = 1601 (0.185 sec)\n",
      "INFO:tensorflow:global_step/sec: 667.018\n",
      "INFO:tensorflow:loss = 0.62540007, step = 1701 (0.150 sec)\n",
      "INFO:tensorflow:global_step/sec: 513.079\n",
      "INFO:tensorflow:loss = 0.63196427, step = 1801 (0.195 sec)\n",
      "INFO:tensorflow:global_step/sec: 454.799\n",
      "INFO:tensorflow:loss = 0.5986406, step = 1901 (0.225 sec)\n",
      "INFO:tensorflow:global_step/sec: 373.482\n",
      "INFO:tensorflow:loss = 0.6156996, step = 2001 (0.263 sec)\n",
      "INFO:tensorflow:global_step/sec: 606.385\n",
      "INFO:tensorflow:loss = 0.5952685, step = 2101 (0.165 sec)\n",
      "INFO:tensorflow:global_step/sec: 606.388\n",
      "INFO:tensorflow:loss = 0.6041393, step = 2201 (0.170 sec)\n",
      "INFO:tensorflow:global_step/sec: 454.788\n",
      "INFO:tensorflow:loss = 0.6135379, step = 2301 (0.220 sec)\n",
      "INFO:tensorflow:global_step/sec: 361.113\n",
      "INFO:tensorflow:loss = 0.5819008, step = 2401 (0.272 sec)\n",
      "INFO:tensorflow:global_step/sec: 435.014\n",
      "INFO:tensorflow:loss = 0.59124666, step = 2501 (0.235 sec)\n",
      "INFO:tensorflow:global_step/sec: 476.446\n",
      "INFO:tensorflow:loss = 0.5899813, step = 2601 (0.210 sec)\n",
      "INFO:tensorflow:global_step/sec: 488.062\n",
      "INFO:tensorflow:loss = 0.63753897, step = 2701 (0.200 sec)\n",
      "INFO:tensorflow:global_step/sec: 606.387\n",
      "INFO:tensorflow:loss = 0.56493413, step = 2801 (0.165 sec)\n",
      "INFO:tensorflow:global_step/sec: 488.066\n",
      "INFO:tensorflow:loss = 0.58624494, step = 2901 (0.205 sec)\n",
      "INFO:tensorflow:global_step/sec: 476.446\n",
      "INFO:tensorflow:loss = 0.6132279, step = 3001 (0.215 sec)\n",
      "INFO:tensorflow:global_step/sec: 377.56\n",
      "INFO:tensorflow:loss = 0.5986145, step = 3101 (0.265 sec)\n",
      "INFO:tensorflow:global_step/sec: 513.092\n",
      "INFO:tensorflow:loss = 0.59604, step = 3201 (0.190 sec)\n",
      "INFO:tensorflow:global_step/sec: 526.598\n",
      "INFO:tensorflow:loss = 0.61666113, step = 3301 (0.195 sec)\n",
      "INFO:tensorflow:global_step/sec: 526.593\n",
      "INFO:tensorflow:loss = 0.5738486, step = 3401 (0.185 sec)\n",
      "INFO:tensorflow:global_step/sec: 625.34\n",
      "INFO:tensorflow:loss = 0.59890896, step = 3501 (0.160 sec)\n",
      "INFO:tensorflow:global_step/sec: 639.432\n",
      "INFO:tensorflow:loss = 0.54282016, step = 3601 (0.161 sec)\n",
      "INFO:tensorflow:global_step/sec: 392.365\n",
      "INFO:tensorflow:loss = 0.5767301, step = 3701 (0.255 sec)\n",
      "INFO:tensorflow:global_step/sec: 571.734\n",
      "INFO:tensorflow:loss = 0.5569492, step = 3801 (0.175 sec)\n",
      "INFO:tensorflow:global_step/sec: 645.501\n",
      "INFO:tensorflow:loss = 0.6276682, step = 3901 (0.155 sec)\n",
      "INFO:tensorflow:global_step/sec: 465.368\n",
      "INFO:tensorflow:loss = 0.61262923, step = 4001 (0.210 sec)\n",
      "INFO:tensorflow:global_step/sec: 540.824\n",
      "INFO:tensorflow:loss = 0.5682032, step = 4101 (0.190 sec)\n",
      "INFO:tensorflow:global_step/sec: 526.6\n",
      "INFO:tensorflow:loss = 0.5809135, step = 4201 (0.185 sec)\n",
      "INFO:tensorflow:global_step/sec: 363.76\n",
      "INFO:tensorflow:loss = 0.53036326, step = 4301 (0.275 sec)\n",
      "INFO:tensorflow:global_step/sec: 550.894\n",
      "INFO:tensorflow:loss = 0.59567684, step = 4401 (0.182 sec)\n",
      "INFO:tensorflow:global_step/sec: 465.366\n",
      "INFO:tensorflow:loss = 0.57625806, step = 4501 (0.220 sec)\n",
      "INFO:tensorflow:global_step/sec: 476.414\n",
      "INFO:tensorflow:loss = 0.55180067, step = 4601 (0.210 sec)\n",
      "INFO:tensorflow:global_step/sec: 588.595\n",
      "INFO:tensorflow:loss = 0.57980275, step = 4701 (0.165 sec)\n",
      "INFO:tensorflow:global_step/sec: 571.734\n",
      "INFO:tensorflow:loss = 0.55508727, step = 4801 (0.180 sec)\n",
      "INFO:tensorflow:global_step/sec: 377.56\n",
      "INFO:tensorflow:loss = 0.59116244, step = 4901 (0.260 sec)\n",
      "INFO:tensorflow:global_step/sec: 476.42\n",
      "INFO:tensorflow:loss = 0.562654, step = 5001 (0.210 sec)\n",
      "INFO:tensorflow:global_step/sec: 540.861\n",
      "INFO:tensorflow:loss = 0.57208663, step = 5101 (0.190 sec)\n",
      "INFO:tensorflow:global_step/sec: 540.828\n",
      "INFO:tensorflow:loss = 0.5287743, step = 5201 (0.185 sec)\n",
      "INFO:tensorflow:global_step/sec: 540.056\n",
      "INFO:tensorflow:loss = 0.5567948, step = 5301 (0.181 sec)\n",
      "INFO:tensorflow:global_step/sec: 584.693\n",
      "INFO:tensorflow:loss = 0.59137857, step = 5401 (0.175 sec)\n",
      "INFO:tensorflow:global_step/sec: 320.737\n",
      "INFO:tensorflow:loss = 0.5301589, step = 5501 (0.307 sec)\n",
      "INFO:tensorflow:global_step/sec: 588.546\n",
      "INFO:tensorflow:loss = 0.5697783, step = 5601 (0.175 sec)\n",
      "INFO:tensorflow:global_step/sec: 488.068\n",
      "INFO:tensorflow:loss = 0.5692706, step = 5701 (0.200 sec)\n",
      "INFO:tensorflow:global_step/sec: 625.33\n",
      "INFO:tensorflow:loss = 0.5915957, step = 5801 (0.160 sec)\n",
      "INFO:tensorflow:global_step/sec: 606.383\n",
      "INFO:tensorflow:loss = 0.53525007, step = 5901 (0.165 sec)\n",
      "INFO:tensorflow:global_step/sec: 555.856\n",
      "INFO:tensorflow:loss = 0.61839885, step = 6001 (0.180 sec)\n",
      "INFO:tensorflow:global_step/sec: 408.38\n",
      "INFO:tensorflow:loss = 0.63140726, step = 6101 (0.250 sec)\n",
      "INFO:tensorflow:global_step/sec: 547.437\n",
      "INFO:tensorflow:loss = 0.5914963, step = 6201 (0.178 sec)\n",
      "INFO:tensorflow:global_step/sec: 555.853\n",
      "INFO:tensorflow:loss = 0.6166359, step = 6301 (0.180 sec)\n",
      "INFO:tensorflow:global_step/sec: 526.594\n",
      "INFO:tensorflow:loss = 0.56398207, step = 6401 (0.190 sec)\n",
      "INFO:tensorflow:global_step/sec: 526.6\n",
      "INFO:tensorflow:loss = 0.6112713, step = 6501 (0.190 sec)\n",
      "INFO:tensorflow:global_step/sec: 667.021\n",
      "INFO:tensorflow:loss = 0.5934506, step = 6601 (0.150 sec)\n",
      "INFO:tensorflow:global_step/sec: 513.095\n",
      "INFO:tensorflow:loss = 0.58467305, step = 6701 (0.200 sec)\n",
      "INFO:tensorflow:global_step/sec: 425.759\n",
      "INFO:tensorflow:loss = 0.5237787, step = 6801 (0.230 sec)\n",
      "INFO:tensorflow:global_step/sec: 588.545\n",
      "INFO:tensorflow:loss = 0.5480826, step = 6901 (0.175 sec)\n",
      "INFO:tensorflow:global_step/sec: 667.024\n",
      "INFO:tensorflow:loss = 0.573197, step = 7001 (0.145 sec)\n",
      "INFO:tensorflow:global_step/sec: 645.509\n",
      "INFO:tensorflow:loss = 0.5602641, step = 7101 (0.155 sec)\n",
      "INFO:tensorflow:global_step/sec: 606.381\n",
      "INFO:tensorflow:loss = 0.565442, step = 7201 (0.165 sec)\n",
      "INFO:tensorflow:global_step/sec: 500.269\n",
      "INFO:tensorflow:loss = 0.5513913, step = 7301 (0.225 sec)\n"
     ]
    },
    {
     "name": "stdout",
     "output_type": "stream",
     "text": [
      "INFO:tensorflow:global_step/sec: 435.012\n",
      "INFO:tensorflow:loss = 0.58565444, step = 7401 (0.210 sec)\n",
      "INFO:tensorflow:global_step/sec: 402.9\n",
      "INFO:tensorflow:loss = 0.54509556, step = 7501 (0.248 sec)\n",
      "INFO:tensorflow:global_step/sec: 571.765\n",
      "INFO:tensorflow:loss = 0.51124877, step = 7601 (0.175 sec)\n",
      "INFO:tensorflow:global_step/sec: 513.097\n",
      "INFO:tensorflow:loss = 0.5732865, step = 7701 (0.190 sec)\n",
      "INFO:tensorflow:global_step/sec: 526.597\n",
      "INFO:tensorflow:loss = 0.5977041, step = 7801 (0.190 sec)\n",
      "INFO:tensorflow:global_step/sec: 555.853\n",
      "INFO:tensorflow:loss = 0.53942573, step = 7901 (0.180 sec)\n",
      "INFO:tensorflow:global_step/sec: 500.256\n",
      "INFO:tensorflow:loss = 0.5563452, step = 8001 (0.205 sec)\n",
      "INFO:tensorflow:global_step/sec: 513.106\n",
      "INFO:tensorflow:loss = 0.55139524, step = 8101 (0.195 sec)\n",
      "INFO:tensorflow:global_step/sec: 645.505\n",
      "INFO:tensorflow:loss = 0.577809, step = 8201 (0.155 sec)\n",
      "INFO:tensorflow:global_step/sec: 588.55\n",
      "INFO:tensorflow:loss = 0.56536853, step = 8301 (0.165 sec)\n",
      "INFO:tensorflow:global_step/sec: 526.594\n",
      "INFO:tensorflow:loss = 0.62220365, step = 8401 (0.190 sec)\n",
      "INFO:tensorflow:global_step/sec: 606.388\n",
      "INFO:tensorflow:loss = 0.5534485, step = 8501 (0.170 sec)\n",
      "INFO:tensorflow:global_step/sec: 606.383\n",
      "INFO:tensorflow:loss = 0.59214735, step = 8601 (0.160 sec)\n",
      "INFO:tensorflow:global_step/sec: 444.681\n",
      "INFO:tensorflow:loss = 0.5519888, step = 8701 (0.230 sec)\n",
      "INFO:tensorflow:global_step/sec: 645.509\n",
      "INFO:tensorflow:loss = 0.61291945, step = 8801 (0.155 sec)\n",
      "INFO:tensorflow:global_step/sec: 571.733\n",
      "INFO:tensorflow:loss = 0.5473413, step = 8901 (0.170 sec)\n",
      "INFO:tensorflow:global_step/sec: 526.594\n",
      "INFO:tensorflow:loss = 0.5916261, step = 9001 (0.195 sec)\n",
      "INFO:tensorflow:global_step/sec: 588.554\n",
      "INFO:tensorflow:loss = 0.5646969, step = 9101 (0.170 sec)\n",
      "INFO:tensorflow:global_step/sec: 690.023\n",
      "INFO:tensorflow:loss = 0.54479414, step = 9201 (0.140 sec)\n",
      "INFO:tensorflow:global_step/sec: 555.854\n",
      "INFO:tensorflow:loss = 0.5737131, step = 9301 (0.180 sec)\n",
      "INFO:tensorflow:global_step/sec: 425.758\n",
      "INFO:tensorflow:loss = 0.54687905, step = 9401 (0.235 sec)\n",
      "INFO:tensorflow:global_step/sec: 645.503\n",
      "INFO:tensorflow:loss = 0.50687623, step = 9501 (0.160 sec)\n",
      "INFO:tensorflow:global_step/sec: 526.599\n",
      "INFO:tensorflow:loss = 0.514773, step = 9601 (0.185 sec)\n",
      "INFO:tensorflow:global_step/sec: 645.504\n",
      "INFO:tensorflow:loss = 0.55771697, step = 9701 (0.155 sec)\n",
      "INFO:tensorflow:global_step/sec: 690.018\n",
      "INFO:tensorflow:loss = 0.60833305, step = 9801 (0.145 sec)\n",
      "INFO:tensorflow:global_step/sec: 571.737\n",
      "INFO:tensorflow:loss = 0.5209, step = 9901 (0.180 sec)\n",
      "INFO:tensorflow:Saving checkpoints for 10000 into C:\\Users\\Lolly\\AppData\\Local\\Temp\\tmpgm3m85i5\\model.ckpt.\n",
      "INFO:tensorflow:Loss for final step: 0.5356996.\n"
     ]
    }
   ],
   "source": [
    "fit = estimator.fit(input_fn=input_fn,steps=10000)"
   ]
  },
  {
   "cell_type": "code",
   "execution_count": 22,
   "metadata": {},
   "outputs": [
    {
     "name": "stdout",
     "output_type": "stream",
     "text": [
      "WARNING:tensorflow:Trapezoidal rule is known to produce incorrect PR-AUCs; please switch to \"careful_interpolation\" instead.\n",
      "WARNING:tensorflow:Trapezoidal rule is known to produce incorrect PR-AUCs; please switch to \"careful_interpolation\" instead.\n",
      "INFO:tensorflow:Starting evaluation at 2018-10-02-14:43:12\n",
      "INFO:tensorflow:Graph was finalized.\n",
      "INFO:tensorflow:Restoring parameters from C:\\Users\\Lolly\\AppData\\Local\\Temp\\tmpgm3m85i5\\model.ckpt-10000\n",
      "INFO:tensorflow:Running local_init_op.\n",
      "INFO:tensorflow:Done running local_init_op.\n",
      "INFO:tensorflow:Evaluation [1/1]\n",
      "INFO:tensorflow:Finished evaluation at 2018-10-02-14:43:13\n",
      "INFO:tensorflow:Saving dict for global step 10000: accuracy = 0.74, accuracy/baseline_label_mean = 0.58, accuracy/threshold_0.500000_mean = 0.74, auc = 0.8197865, auc_precision_recall = 0.8496301, global_step = 10000, labels/actual_label_mean = 0.58, labels/prediction_mean = 0.5731966, loss = 0.5324199, precision/positive_threshold_0.500000_mean = 0.7352941, recall/positive_threshold_0.500000_mean = 0.86206895\n"
     ]
    }
   ],
   "source": [
    "results = estimator.evaluate(input_fn=input_fn,steps=1)"
   ]
  },
  {
   "cell_type": "code",
   "execution_count": 24,
   "metadata": {},
   "outputs": [
    {
     "name": "stdout",
     "output_type": "stream",
     "text": [
      "{'accuracy': 0.74, 'auc': 0.8197865, 'accuracy/baseline_label_mean': 0.58, 'auc_precision_recall': 0.8496301, 'labels/actual_label_mean': 0.58, 'recall/positive_threshold_0.500000_mean': 0.86206895, 'precision/positive_threshold_0.500000_mean': 0.7352941, 'global_step': 10000, 'loss': 0.5324199, 'accuracy/threshold_0.500000_mean': 0.74, 'labels/prediction_mean': 0.5731966}\n"
     ]
    }
   ],
   "source": [
    "print(results)"
   ]
  },
  {
   "cell_type": "code",
   "execution_count": 26,
   "metadata": {},
   "outputs": [
    {
     "name": "stdout",
     "output_type": "stream",
     "text": [
      "global_step ---> 10000\n",
      "linear/bias_weight ---> [0.22031789]\n",
      "linear/bias_weight/d/linear/bias_weight/part_0/Ftrl ---> [19.418438]\n",
      "linear/bias_weight/d/linear/bias_weight/part_0/Ftrl_1 ---> [-4.8543034]\n",
      "linear/x/weight ---> [[19.886522]]\n",
      "linear/x/weight/head/linear/x/weight/part_0/Ftrl ---> [[0.41695315]]\n",
      "linear/x/weight/head/linear/x/weight/part_0/Ftrl_1 ---> [[-64.205536]]\n"
     ]
    }
   ],
   "source": [
    "for var in fit.get_variable_names():\n",
    "    print(var,\"--->\",fit.get_variable_value(var))"
   ]
  }
 ],
 "metadata": {
  "kernelspec": {
   "display_name": "Python 3",
   "language": "python",
   "name": "python3"
  },
  "language_info": {
   "codemirror_mode": {
    "name": "ipython",
    "version": 3
   },
   "file_extension": ".py",
   "mimetype": "text/x-python",
   "name": "python",
   "nbconvert_exporter": "python",
   "pygments_lexer": "ipython3",
   "version": "3.5.2"
  },
  "widgets": {
   "state": {},
   "version": "1.1.2"
  }
 },
 "nbformat": 4,
 "nbformat_minor": 2
}
