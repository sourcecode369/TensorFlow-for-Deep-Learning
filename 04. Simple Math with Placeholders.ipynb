{
 "cells": [
  {
   "cell_type": "code",
   "execution_count": 1,
   "metadata": {},
   "outputs": [],
   "source": [
    "import tensorflow as tf"
   ]
  },
  {
   "cell_type": "code",
   "execution_count": 2,
   "metadata": {},
   "outputs": [],
   "source": [
    "x = tf.placeholder(tf.int32, shape=[3], name='x')\n",
    "y = tf.placeholder(tf.int32, shape=[3], name='y')"
   ]
  },
  {
   "cell_type": "code",
   "execution_count": 3,
   "metadata": {},
   "outputs": [],
   "source": [
    "sum_x = tf.reduce_sum(x, name='sum_x')\n",
    "prod_y = tf.reduce_prod(y, name='prod_y')"
   ]
  },
  {
   "cell_type": "code",
   "execution_count": 4,
   "metadata": {},
   "outputs": [],
   "source": [
    "final_div = tf.div(sum_x, prod_y, name='final_div')"
   ]
  },
  {
   "cell_type": "code",
   "execution_count": 12,
   "metadata": {},
   "outputs": [
    {
     "name": "stdout",
     "output_type": "stream",
     "text": [
      "sum_x:  60\n",
      "prod_y:  120\n",
      "final_div:  4\n"
     ]
    }
   ],
   "source": [
    "with tf.Session() as sess:\n",
    "    print(\"sum_x: \",sess.run(sum_x, feed_dict = {x: [10,20,30]}))\n",
    "    print(\"prod_y: \",sess.run(prod_y, feed_dict = {y: [4,5,6]}))\n",
    "    print(\"final_div: \",sess.run(final_div, feed_dict = {x:[7,8,9],y:[1,2,3]}))\n",
    "    writer = tf.summary.FileWriter(\"./SimpleMathWithPlaceholders\",sess.graph)\n",
    "    writer.close()"
   ]
  }
 ],
 "metadata": {
  "kernelspec": {
   "display_name": "Python 3",
   "language": "python",
   "name": "python3"
  },
  "language_info": {
   "codemirror_mode": {
    "name": "ipython",
    "version": 3
   },
   "file_extension": ".py",
   "mimetype": "text/x-python",
   "name": "python",
   "nbconvert_exporter": "python",
   "pygments_lexer": "ipython3",
   "version": "3.5.2"
  },
  "widgets": {
   "state": {},
   "version": "1.1.2"
  }
 },
 "nbformat": 4,
 "nbformat_minor": 2
}
