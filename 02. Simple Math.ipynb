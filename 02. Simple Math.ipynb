{
 "cells": [
  {
   "cell_type": "code",
   "execution_count": 2,
   "metadata": {},
   "outputs": [],
   "source": [
    "import tensorflow as tf"
   ]
  },
  {
   "cell_type": "code",
   "execution_count": 3,
   "metadata": {},
   "outputs": [],
   "source": [
    "a = tf.constant(6.5, name='constant_a')\n",
    "\n",
    "b = tf.constant(3.4, name='constant_b')\n",
    "c = tf.constant(3.0, name='constant_c')\n",
    "\n",
    "d = tf.constant(100.2, name='constant_d')"
   ]
  },
  {
   "cell_type": "code",
   "execution_count": 4,
   "metadata": {},
   "outputs": [],
   "source": [
    "add = tf.add(a,b,name='add_ab')\n",
    "subtract = tf.subtract(b,c,name='subtract_bc')\n",
    "square = tf.square(d,name='square_d')"
   ]
  },
  {
   "cell_type": "code",
   "execution_count": 5,
   "metadata": {},
   "outputs": [],
   "source": [
    "final_sum = tf.add_n([add,subtract,square],name='final_sum')"
   ]
  },
  {
   "cell_type": "code",
   "execution_count": 6,
   "metadata": {},
   "outputs": [
    {
     "name": "stdout",
     "output_type": "stream",
     "text": [
      "a + b :  9.9\n",
      "b - c :  0.4000001\n",
      "d :  10040.039\n",
      "final_sum:  10050.339\n"
     ]
    }
   ],
   "source": [
    "with tf.Session() as sess:\n",
    "    print(\"a + b : \", sess.run(add))\n",
    "    print(\"b - c : \", sess.run(subtract))\n",
    "    print(\"d : \", sess.run(square))\n",
    "    print(\"final_sum: \", sess.run(final_sum))"
   ]
  },
  {
   "cell_type": "code",
   "execution_count": 8,
   "metadata": {},
   "outputs": [],
   "source": [
    "writer = tf.summary.FileWriter('./SimpleMath',sess.graph)\n",
    "writer.close()"
   ]
  }
 ],
 "metadata": {
  "kernelspec": {
   "display_name": "Python 3",
   "language": "python",
   "name": "python3"
  },
  "language_info": {
   "codemirror_mode": {
    "name": "ipython",
    "version": 3
   },
   "file_extension": ".py",
   "mimetype": "text/x-python",
   "name": "python",
   "nbconvert_exporter": "python",
   "pygments_lexer": "ipython3",
   "version": "3.5.2"
  },
  "widgets": {
   "state": {},
   "version": "1.1.2"
  }
 },
 "nbformat": 4,
 "nbformat_minor": 2
}
